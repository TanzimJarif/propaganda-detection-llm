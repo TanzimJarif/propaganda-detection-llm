{
 "cells": [
  {
   "cell_type": "markdown",
   "id": "53a468d2-e865-428a-b687-1ba3586a0e62",
   "metadata": {
    "id": "53a468d2-e865-428a-b687-1ba3586a0e62"
   },
   "source": [
    "# Propaganda Detection With Anlp"
   ]
  },
  {
   "cell_type": "code",
   "execution_count": 1,
   "id": "e232d020-655c-49e1-a4e4-6d8dc5a83b99",
   "metadata": {
    "id": "e232d020-655c-49e1-a4e4-6d8dc5a83b99"
   },
   "outputs": [],
   "source": [
    "#importing necessary libraries\n",
    "import os\n",
    "import re\n",
    "import nltk\n",
    "import copy\n",
    "import torch\n",
    "import numpy as np\n",
    "import pandas as pd\n",
    "import matplotlib.pyplot as plt\n",
    "from nltk.tokenize import word_tokenize\n",
    "from sklearn.naive_bayes import MultinomialNB\n",
    "from sklearn.preprocessing import LabelEncoder\n",
    "from sklearn.model_selection import train_test_split\n",
    "from sklearn.model_selection import KFold, cross_val_score\n",
    "from sklearn.metrics import accuracy_score, f1_score, classification_report\n",
    "from transformers import BertTokenizer, BertForSequenceClassification, AdamW\n",
    "from torch.utils.data import TensorDataset, DataLoader, RandomSampler, SequentialSampler\n",
    "from sklearn.feature_extraction.text import CountVectorizer, TfidfTransformer, TfidfVectorizer"
   ]
  },
  {
   "cell_type": "code",
   "execution_count": 2,
   "id": "JYfigDBgaJSb",
   "metadata": {
    "colab": {
     "base_uri": "https://localhost:8080/"
    },
    "id": "JYfigDBgaJSb",
    "outputId": "d965db88-9723-4596-b979-21f7b5a192a7"
   },
   "outputs": [
    {
     "name": "stderr",
     "output_type": "stream",
     "text": [
      "[nltk_data] Downloading package punkt to\n",
      "[nltk_data]     C:\\Users\\ASUS\\AppData\\Roaming\\nltk_data...\n",
      "[nltk_data]   Package punkt is already up-to-date!\n"
     ]
    },
    {
     "data": {
      "text/plain": [
       "True"
      ]
     },
     "execution_count": 2,
     "metadata": {},
     "output_type": "execute_result"
    }
   ],
   "source": [
    "nltk.download('punkt')"
   ]
  },
  {
   "cell_type": "markdown",
   "id": "3ec16535-9758-453f-bb84-3006e040fa88",
   "metadata": {
    "id": "3ec16535-9758-453f-bb84-3006e040fa88",
    "tags": []
   },
   "source": [
    "## Data Preprocessing"
   ]
  },
  {
   "cell_type": "code",
   "execution_count": 3,
   "id": "8f938578-2986-4517-a72d-b6634a5ee115",
   "metadata": {
    "colab": {
     "base_uri": "https://localhost:8080/"
    },
    "id": "8f938578-2986-4517-a72d-b6634a5ee115",
    "outputId": "fc3dde65-c364-4365-90ed-b1d2d06d0d18"
   },
   "outputs": [
    {
     "name": "stdout",
     "output_type": "stream",
     "text": [
      "<class 'pandas.core.frame.DataFrame'>\n",
      "RangeIndex: 2560 entries, 0 to 2559\n",
      "Data columns (total 2 columns):\n",
      " #   Column             Non-Null Count  Dtype \n",
      "---  ------             --------------  ----- \n",
      " 0   label              2560 non-null   object\n",
      " 1   tagged_in_context  2560 non-null   object\n",
      "dtypes: object(2)\n",
      "memory usage: 40.1+ KB\n",
      "<class 'pandas.core.frame.DataFrame'>\n",
      "RangeIndex: 640 entries, 0 to 639\n",
      "Data columns (total 2 columns):\n",
      " #   Column             Non-Null Count  Dtype \n",
      "---  ------             --------------  ----- \n",
      " 0   label              640 non-null    object\n",
      " 1   tagged_in_context  640 non-null    object\n",
      "dtypes: object(2)\n",
      "memory usage: 10.1+ KB\n"
     ]
    }
   ],
   "source": [
    "#defining paths for the datsets\n",
    "parentdir = \"propaganda_dataset_v2\"\n",
    "train_file = \"propaganda_train.tsv\"\n",
    "test_file = \"propaganda_val.tsv\"\n",
    "train_path = os.path.join(parentdir,train_file)\n",
    "test_path = os.path.join(parentdir,test_file)\n",
    "\n",
    "#importing the the training and testing datasets\n",
    "train_df = pd.read_csv(train_path,delimiter=\"\\t\",quotechar='|')\n",
    "test_df = pd.read_csv(test_path,delimiter=\"\\t\",quotechar='|')\n",
    "\n",
    "#checking the summary of the datasets\n",
    "train_df.info()\n",
    "test_df.info()"
   ]
  },
  {
   "cell_type": "code",
   "execution_count": 4,
   "id": "ff3d12f6-6e9e-4790-888e-9b00bff9691c",
   "metadata": {
    "id": "ff3d12f6-6e9e-4790-888e-9b00bff9691c"
   },
   "outputs": [],
   "source": [
    "# Renaming columns for convenience\n",
    "column_names = ['label','sentence']\n",
    "train_df.columns = column_names\n",
    "test_df.columns = column_names"
   ]
  },
  {
   "cell_type": "code",
   "execution_count": 5,
   "id": "f9b98423-310c-4b21-8f0a-c832dd37aef7",
   "metadata": {
    "id": "f9b98423-310c-4b21-8f0a-c832dd37aef7"
   },
   "outputs": [],
   "source": [
    "#extracting snuppets from sentences\n",
    "def extract_snippet(sentence):\n",
    "    start_index = sentence.find('<BOS>')\n",
    "    end_index = sentence.find('<EOS>')\n",
    "\n",
    "    #retuning chunk of text if both tag are found\n",
    "    if start_index != -1 and end_index != -1:\n",
    "        return sentence[start_index + len('<BOS>'):end_index]\n",
    "    else:\n",
    "        return ''\n",
    "\n",
    "#storing the snippets on a new column\n",
    "train_df['snippet'] = train_df['sentence'].apply(extract_snippet)\n",
    "test_df['snippet'] = test_df['sentence'].apply(extract_snippet)"
   ]
  },
  {
   "cell_type": "code",
   "execution_count": 7,
   "id": "d0c8fa4b-304a-41ba-bdfb-9c2fe071b190",
   "metadata": {},
   "outputs": [
    {
     "data": {
      "text/plain": [
       "2560"
      ]
     },
     "execution_count": 7,
     "metadata": {},
     "output_type": "execute_result"
    }
   ],
   "source": [
    "len(train_df)"
   ]
  },
  {
   "cell_type": "code",
   "execution_count": 8,
   "id": "88258bf5-4ad6-4897-b3f2-5b949add3c28",
   "metadata": {},
   "outputs": [
    {
     "data": {
      "text/plain": [
       "640"
      ]
     },
     "execution_count": 8,
     "metadata": {},
     "output_type": "execute_result"
    }
   ],
   "source": [
    "len(test_df)"
   ]
  },
  {
   "cell_type": "markdown",
   "id": "9f498f62-ba27-4641-8403-c7b326841de4",
   "metadata": {
    "id": "9f498f62-ba27-4641-8403-c7b326841de4",
    "tags": []
   },
   "source": [
    "### EDA"
   ]
  },
  {
   "cell_type": "code",
   "execution_count": 6,
   "id": "4ace374c-383e-44e3-9ead-918242897a53",
   "metadata": {
    "colab": {
     "base_uri": "https://localhost:8080/",
     "height": 835
    },
    "id": "4ace374c-383e-44e3-9ead-918242897a53",
    "outputId": "61da613c-1fa4-4bae-ebff-5b7de557215a"
   },
   "outputs": [
    {
     "data": {
      "text/plain": [
       "label\n",
       "not_propaganda               1269\n",
       "exaggeration,minimisation     170\n",
       "name_calling,labeling         166\n",
       "causal_oversimplification     165\n",
       "loaded_language               161\n",
       "repetition                    160\n",
       "doubt                         157\n",
       "appeal_to_fear_prejudice      157\n",
       "flag_waving                   155\n",
       "Name: count, dtype: int64"
      ]
     },
     "execution_count": 6,
     "metadata": {},
     "output_type": "execute_result"
    },
    {
     "data": {
      "image/png": "[encoded data removed]",
      "text/plain": [
       "<Figure size 640x480 with 1 Axes>"
      ]
     },
     "metadata": {},
     "output_type": "display_data"
    }
   ],
   "source": [
    "#checking the number of samples in each label for train data\n",
    "train_df.groupby(by = \"label\").sentence.count().plot(kind = 'bar', color = 'blue')\n",
    "plt.title(\"Distribution of Labels in Train Data\")\n",
    "plt.ylabel(\"Number of Samples\")\n",
    "plt.savefig('Distribution of Labels in Train Data.png', bbox_inches='tight')\n",
    "train_df.label.value_counts()"
   ]
  },
  {
   "cell_type": "code",
   "execution_count": 7,
   "id": "9458a1a1-61da-4393-96f3-1ae4759bba35",
   "metadata": {
    "colab": {
     "base_uri": "https://localhost:8080/",
     "height": 835
    },
    "id": "9458a1a1-61da-4393-96f3-1ae4759bba35",
    "outputId": "a3ea9b0d-b0cc-459d-d8e6-0cce1bed2e62"
   },
   "outputs": [
    {
     "data": {
      "text/plain": [
       "label\n",
       "not_propaganda               331\n",
       "flag_waving                   45\n",
       "appeal_to_fear_prejudice      43\n",
       "doubt                         43\n",
       "repetition                    40\n",
       "loaded_language               39\n",
       "causal_oversimplification     35\n",
       "name_calling,labeling         34\n",
       "exaggeration,minimisation     30\n",
       "Name: count, dtype: int64"
      ]
     },
     "execution_count": 7,
     "metadata": {},
     "output_type": "execute_result"
    },
    {
     "data": {
      "image/png": "[encoded data removed]",
      "text/plain": [
       "<Figure size 640x480 with 1 Axes>"
      ]
     },
     "metadata": {},
     "output_type": "display_data"
    }
   ],
   "source": [
    "#checking the number of samples in each label for test data\n",
    "test_df.groupby(by = \"label\").sentence.count().plot(kind = 'bar', color ='orange')\n",
    "plt.title(\"Distribution of Labels in Test Data\")\n",
    "plt.ylabel(\"Number of Samples\")\n",
    "plt.savefig('Distribution of Labels in Test Data.png', bbox_inches='tight')\n",
    "test_df.label.value_counts()"
   ]
  },
  {
   "cell_type": "code",
   "execution_count": 8,
   "id": "5a90d7f2-d199-4126-b5c2-9211207df4fb",
   "metadata": {
    "colab": {
     "base_uri": "https://localhost:8080/",
     "height": 644
    },
    "id": "5a90d7f2-d199-4126-b5c2-9211207df4fb",
    "outputId": "0f8a860f-7bfc-47ba-d262-2c19c3812030"
   },
   "outputs": [
    {
     "data": {
      "image/png": "[encoded data removed]",
      "text/plain": [
       "<Figure size 640x480 with 1 Axes>"
      ]
     },
     "metadata": {},
     "output_type": "display_data"
    }
   ],
   "source": [
    "#checking average sentence and snippet length\n",
    "train_df['sentence_lengths'] = train_df['sentence'].apply(lambda x: len(word_tokenize(x.lower())))\n",
    "train_df['snippet_lengths'] = train_df['snippet'].apply(lambda x: len(word_tokenize(x.lower())))\n",
    "\n",
    "#plotting the avergae length for each class\n",
    "train_df.groupby(by = 'label')[['sentence_lengths','snippet_lengths']].mean().plot(kind = 'bar')\n",
    "plt.legend(['Sentences', 'Snippets'],loc='upper right',fontsize='small')\n",
    "plt.ylabel(\"Average Length\")\n",
    "plt.title(\"Average Length of Sentecne and Snippet for Each Class\")\n",
    "plt.savefig('mean_lengths_by_label.png', bbox_inches='tight')"
   ]
  },
  {
   "cell_type": "markdown",
   "id": "e556c7a2-f8eb-483b-b270-dc01c87f3ef1",
   "metadata": {
    "id": "e556c7a2-f8eb-483b-b270-dc01c87f3ef1",
    "tags": []
   },
   "source": [
    "### Defining Labels"
   ]
  },
  {
   "cell_type": "code",
   "execution_count": 9,
   "id": "ffd7ad97-ee9d-4ff5-8b72-7ca5c2a44f78",
   "metadata": {
    "id": "ffd7ad97-ee9d-4ff5-8b72-7ca5c2a44f78"
   },
   "outputs": [],
   "source": [
    "#converting label column into a binary label\n",
    "train_df['binary_label'] = train_df['label'].apply(lambda x: 0 if x == \"not_propaganda\" else 1)\n",
    "test_df['binary_label'] = test_df['label'].apply(lambda x: 0 if x == \"not_propaganda\" else 1)"
   ]
  },
  {
   "cell_type": "code",
   "execution_count": 10,
   "id": "b2700ae1-3e0e-4dae-9bd9-1b704beda393",
   "metadata": {
    "id": "b2700ae1-3e0e-4dae-9bd9-1b704beda393"
   },
   "outputs": [],
   "source": [
    "#converting text labels to numerical values\n",
    "label_encoder = LabelEncoder()\n",
    "train_df['multiclass_label'] = label_encoder.fit_transform(train_df['label'])\n",
    "test_df['multiclass_label'] = label_encoder.fit_transform(test_df['label'])"
   ]
  },
  {
   "cell_type": "code",
   "execution_count": 11,
   "id": "2ccbddc1-73fd-4fc3-bff8-37ce045e2098",
   "metadata": {
    "colab": {
     "base_uri": "https://localhost:8080/"
    },
    "id": "2ccbddc1-73fd-4fc3-bff8-37ce045e2098",
    "outputId": "a8af6190-7e3a-46c6-9714-aa2dc9b4df0c"
   },
   "outputs": [
    {
     "name": "stdout",
     "output_type": "stream",
     "text": [
      "not_propaganda: 7\n",
      "causal_oversimplification: 1\n",
      "appeal_to_fear_prejudice: 0\n",
      "repetition: 8\n",
      "name_calling,labeling: 6\n",
      "loaded_language: 5\n",
      "flag_waving: 4\n",
      "doubt: 2\n",
      "exaggeration,minimisation: 3\n"
     ]
    }
   ],
   "source": [
    "# Displaying the label mapping\n",
    "label_mapping = {label: encoded_value for label, encoded_value in zip(test_df['label'], test_df['multiclass_label'])}\n",
    "for label, encoded_value in label_mapping.items():\n",
    "    print(f\"{label}: {encoded_value}\")\n",
    "\n",
    "reverse_index={value:key for (key,value)in label_mapping.items()}"
   ]
  },
  {
   "cell_type": "code",
   "execution_count": 12,
   "id": "cf7730dd-5c5e-4a80-bb8d-9050ef7587f6",
   "metadata": {
    "colab": {
     "base_uri": "https://localhost:8080/",
     "height": 414
    },
    "id": "cf7730dd-5c5e-4a80-bb8d-9050ef7587f6",
    "outputId": "8f81304b-e30a-45c2-e7c6-564c0b062c17"
   },
   "outputs": [
    {
     "data": {
      "application/vnd.google.colaboratory.intrinsic+json": {
       "summary": "{\n  \"name\": \"train_df\",\n  \"rows\": 2560,\n  \"fields\": [\n    {\n      \"column\": \"label\",\n      \"properties\": {\n        \"dtype\": \"category\",\n        \"num_unique_values\": 9,\n        \"samples\": [\n          \"causal_oversimplification\",\n          \"flag_waving\",\n          \"appeal_to_fear_prejudice\"\n        ],\n        \"semantic_type\": \"\",\n        \"description\": \"\"\n      }\n    },\n    {\n      \"column\": \"sentence\",\n      \"properties\": {\n        \"dtype\": \"string\",\n        \"num_unique_values\": 2546,\n        \"samples\": [\n          \"Even though Senator Feinstein had the <BOS> letter in hand, she never <EOS> brought up the charge during the public hearing, nor during her own meeting with the judge. \",\n          \"Sessions is <BOS> a <EOS> weak sister. \",\n          \"Often, the American mainstream media becomes a de facto government employee, taking the claims of U.S. officials and reporting them as proven fact \\u2014 and nothing exemplifies this penchant better than reporting on the Gulf of Tonkin incident \\u2014 perhaps one of <BOS> most flagrant lies ever dreamed up <EOS> as a justification for war. \"\n        ],\n        \"semantic_type\": \"\",\n        \"description\": \"\"\n      }\n    },\n    {\n      \"column\": \"snippet\",\n      \"properties\": {\n        \"dtype\": \"string\",\n        \"num_unique_values\": 2431,\n        \"samples\": [\n          \" aren\\u2019t going to fit \",\n          \" describes \\u201cRussia\\u2019s intent on expanding its Uranium expansion \",\n          \" him what he knew how \"\n        ],\n        \"semantic_type\": \"\",\n        \"description\": \"\"\n      }\n    },\n    {\n      \"column\": \"sentence_lengths\",\n      \"properties\": {\n        \"dtype\": \"number\",\n        \"std\": 18,\n        \"min\": 7,\n        \"max\": 167,\n        \"num_unique_values\": 108,\n        \"samples\": [\n          71,\n          40,\n          11\n        ],\n        \"semantic_type\": \"\",\n        \"description\": \"\"\n      }\n    },\n    {\n      \"column\": \"snippet_lengths\",\n      \"properties\": {\n        \"dtype\": \"number\",\n        \"std\": 11,\n        \"min\": 1,\n        \"max\": 160,\n        \"num_unique_values\": 76,\n        \"samples\": [\n          25,\n          17,\n          3\n        ],\n        \"semantic_type\": \"\",\n        \"description\": \"\"\n      }\n    },\n    {\n      \"column\": \"binary_label\",\n      \"properties\": {\n        \"dtype\": \"number\",\n        \"std\": 0,\n        \"min\": 0,\n        \"max\": 1,\n        \"num_unique_values\": 2,\n        \"samples\": [\n          1,\n          0\n        ],\n        \"semantic_type\": \"\",\n        \"description\": \"\"\n      }\n    },\n    {\n      \"column\": \"multiclass_label\",\n      \"properties\": {\n        \"dtype\": \"number\",\n        \"std\": 2,\n        \"min\": 0,\n        \"max\": 8,\n        \"num_unique_values\": 9,\n        \"samples\": [\n          1,\n          4\n        ],\n        \"semantic_type\": \"\",\n        \"description\": \"\"\n      }\n    }\n  ]\n}",
       "type": "dataframe",
       "variable_name": "train_df"
      },
      "text/html": [
       "\n",
       "  <div id=\"df-ed41a29a-b5b5-431d-b8cd-04d530340c77\" class=\"colab-df-container\">\n",
       "    <div>\n",
       "<style scoped>\n",
       "    .dataframe tbody tr th:only-of-type {\n",
       "        vertical-align: middle;\n",
       "    }\n",
       "\n",
       "    .dataframe tbody tr th {\n",
       "        vertical-align: top;\n",
       "    }\n",
       "\n",
       "    .dataframe thead th {\n",
       "        text-align: right;\n",
       "    }\n",
       "</style>\n",
       "<table border=\"1\" class=\"dataframe\">\n",
       "  <thead>\n",
       "    <tr style=\"text-align: right;\">\n",
       "      <th></th>\n",
       "      <th>label</th>\n",
       "      <th>sentence</th>\n",
       "      <th>snippet</th>\n",
       "      <th>sentence_lengths</th>\n",
       "      <th>snippet_lengths</th>\n",
       "      <th>binary_label</th>\n",
       "      <th>multiclass_label</th>\n",
       "    </tr>\n",
       "  </thead>\n",
       "  <tbody>\n",
       "    <tr>\n",
       "      <th>0</th>\n",
       "      <td>not_propaganda</td>\n",
       "      <td>No, &lt;BOS&gt; he &lt;EOS&gt; will not be confirmed.</td>\n",
       "      <td>he</td>\n",
       "      <td>14</td>\n",
       "      <td>1</td>\n",
       "      <td>0</td>\n",
       "      <td>7</td>\n",
       "    </tr>\n",
       "    <tr>\n",
       "      <th>1</th>\n",
       "      <td>not_propaganda</td>\n",
       "      <td>This declassification effort &lt;BOS&gt; won’t make ...</td>\n",
       "      <td>won’t make things any worse than they are for...</td>\n",
       "      <td>23</td>\n",
       "      <td>14</td>\n",
       "      <td>0</td>\n",
       "      <td>7</td>\n",
       "    </tr>\n",
       "    <tr>\n",
       "      <th>2</th>\n",
       "      <td>flag_waving</td>\n",
       "      <td>\"The Obama administration misled the &lt;BOS&gt; Ame...</td>\n",
       "      <td>American people</td>\n",
       "      <td>31</td>\n",
       "      <td>2</td>\n",
       "      <td>1</td>\n",
       "      <td>4</td>\n",
       "    </tr>\n",
       "    <tr>\n",
       "      <th>3</th>\n",
       "      <td>not_propaganda</td>\n",
       "      <td>“It looks like we’re capturing the demise of t...</td>\n",
       "      <td>and</td>\n",
       "      <td>49</td>\n",
       "      <td>1</td>\n",
       "      <td>0</td>\n",
       "      <td>7</td>\n",
       "    </tr>\n",
       "    <tr>\n",
       "      <th>4</th>\n",
       "      <td>not_propaganda</td>\n",
       "      <td>&lt;BOS&gt; Location: Westerville, Ohio &lt;EOS&gt;</td>\n",
       "      <td>Location: Westerville, Ohio</td>\n",
       "      <td>11</td>\n",
       "      <td>5</td>\n",
       "      <td>0</td>\n",
       "      <td>7</td>\n",
       "    </tr>\n",
       "  </tbody>\n",
       "</table>\n",
       "</div>\n",
       "    <div class=\"colab-df-buttons\">\n",
       "\n",
       "  <div class=\"colab-df-container\">\n",
       "    <button class=\"colab-df-convert\" onclick=\"convertToInteractive('df-ed41a29a-b5b5-431d-b8cd-04d530340c77')\"\n",
       "            title=\"Convert this dataframe to an interactive table.\"\n",
       "            style=\"display:none;\">\n",
       "\n",
       "  <svg xmlns=\"http://www.w3.org/2000/svg\" height=\"24px\" viewBox=\"0 -960 960 960\">\n",
       "    <path d=\"M120-120v-720h720v720H120Zm60-500h600v-160H180v160Zm220 220h160v-160H400v160Zm0 220h160v-160H400v160ZM180-400h160v-160H180v160Zm440 0h160v-160H620v160ZM180-180h160v-160H180v160Zm440 0h160v-160H620v160Z\"/>\n",
       "  </svg>\n",
       "    </button>\n",
       "\n",
       "  <style>\n",
       "    .colab-df-container {\n",
       "      display:flex;\n",
       "      gap: 12px;\n",
       "    }\n",
       "\n",
       "    .colab-df-convert {\n",
       "      background-color: #E8F0FE;\n",
       "      border: none;\n",
       "      border-radius: 50%;\n",
       "      cursor: pointer;\n",
       "      display: none;\n",
       "      fill: #1967D2;\n",
       "      height: 32px;\n",
       "      padding: 0 0 0 0;\n",
       "      width: 32px;\n",
       "    }\n",
       "\n",
       "    .colab-df-convert:hover {\n",
       "      background-color: #E2EBFA;\n",
       "      box-shadow: 0px 1px 2px rgba(60, 64, 67, 0.3), 0px 1px 3px 1px rgba(60, 64, 67, 0.15);\n",
       "      fill: #174EA6;\n",
       "    }\n",
       "\n",
       "    .colab-df-buttons div {\n",
       "      margin-bottom: 4px;\n",
       "    }\n",
       "\n",
       "    [theme=dark] .colab-df-convert {\n",
       "      background-color: #3B4455;\n",
       "      fill: #D2E3FC;\n",
       "    }\n",
       "\n",
       "    [theme=dark] .colab-df-convert:hover {\n",
       "      background-color: #434B5C;\n",
       "      box-shadow: 0px 1px 3px 1px rgba(0, 0, 0, 0.15);\n",
       "      filter: drop-shadow(0px 1px 2px rgba(0, 0, 0, 0.3));\n",
       "      fill: #FFFFFF;\n",
       "    }\n",
       "  </style>\n",
       "\n",
       "    <script>\n",
       "      const buttonEl =\n",
       "        document.querySelector('#df-ed41a29a-b5b5-431d-b8cd-04d530340c77 button.colab-df-convert');\n",
       "      buttonEl.style.display =\n",
       "        google.colab.kernel.accessAllowed ? 'block' : 'none';\n",
       "\n",
       "      async function convertToInteractive(key) {\n",
       "        const element = document.querySelector('#df-ed41a29a-b5b5-431d-b8cd-04d530340c77');\n",
       "        const dataTable =\n",
       "          await google.colab.kernel.invokeFunction('convertToInteractive',\n",
       "                                                    [key], {});\n",
       "        if (!dataTable) return;\n",
       "\n",
       "        const docLinkHtml = 'Like what you see? Visit the ' +\n",
       "          '<a target=\"_blank\" href=https://colab.research.google.com/notebooks/data_table.ipynb>data table notebook</a>'\n",
       "          + ' to learn more about interactive tables.';\n",
       "        element.innerHTML = '';\n",
       "        dataTable['output_type'] = 'display_data';\n",
       "        await google.colab.output.renderOutput(dataTable, element);\n",
       "        const docLink = document.createElement('div');\n",
       "        docLink.innerHTML = docLinkHtml;\n",
       "        element.appendChild(docLink);\n",
       "      }\n",
       "    </script>\n",
       "  </div>\n",
       "\n",
       "\n",
       "<div id=\"df-cad3f766-2af3-4907-86f3-708c69d42a82\">\n",
       "  <button class=\"colab-df-quickchart\" onclick=\"quickchart('df-cad3f766-2af3-4907-86f3-708c69d42a82')\"\n",
       "            title=\"Suggest charts\"\n",
       "            style=\"display:none;\">\n",
       "\n",
       "<svg xmlns=\"http://www.w3.org/2000/svg\" height=\"24px\"viewBox=\"0 0 24 24\"\n",
       "     width=\"24px\">\n",
       "    <g>\n",
       "        <path d=\"M19 3H5c-1.1 0-2 .9-2 2v14c0 1.1.9 2 2 2h14c1.1 0 2-.9 2-2V5c0-1.1-.9-2-2-2zM9 17H7v-7h2v7zm4 0h-2V7h2v10zm4 0h-2v-4h2v4z\"/>\n",
       "    </g>\n",
       "</svg>\n",
       "  </button>\n",
       "\n",
       "<style>\n",
       "  .colab-df-quickchart {\n",
       "      --bg-color: #E8F0FE;\n",
       "      --fill-color: #1967D2;\n",
       "      --hover-bg-color: #E2EBFA;\n",
       "      --hover-fill-color: #174EA6;\n",
       "      --disabled-fill-color: #AAA;\n",
       "      --disabled-bg-color: #DDD;\n",
       "  }\n",
       "\n",
       "  [theme=dark] .colab-df-quickchart {\n",
       "      --bg-color: #3B4455;\n",
       "      --fill-color: #D2E3FC;\n",
       "      --hover-bg-color: #434B5C;\n",
       "      --hover-fill-color: #FFFFFF;\n",
       "      --disabled-bg-color: #3B4455;\n",
       "      --disabled-fill-color: #666;\n",
       "  }\n",
       "\n",
       "  .colab-df-quickchart {\n",
       "    background-color: var(--bg-color);\n",
       "    border: none;\n",
       "    border-radius: 50%;\n",
       "    cursor: pointer;\n",
       "    display: none;\n",
       "    fill: var(--fill-color);\n",
       "    height: 32px;\n",
       "    padding: 0;\n",
       "    width: 32px;\n",
       "  }\n",
       "\n",
       "  .colab-df-quickchart:hover {\n",
       "    background-color: var(--hover-bg-color);\n",
       "    box-shadow: 0 1px 2px rgba(60, 64, 67, 0.3), 0 1px 3px 1px rgba(60, 64, 67, 0.15);\n",
       "    fill: var(--button-hover-fill-color);\n",
       "  }\n",
       "\n",
       "  .colab-df-quickchart-complete:disabled,\n",
       "  .colab-df-quickchart-complete:disabled:hover {\n",
       "    background-color: var(--disabled-bg-color);\n",
       "    fill: var(--disabled-fill-color);\n",
       "    box-shadow: none;\n",
       "  }\n",
       "\n",
       "  .colab-df-spinner {\n",
       "    border: 2px solid var(--fill-color);\n",
       "    border-color: transparent;\n",
       "    border-bottom-color: var(--fill-color);\n",
       "    animation:\n",
       "      spin 1s steps(1) infinite;\n",
       "  }\n",
       "\n",
       "  @keyframes spin {\n",
       "    0% {\n",
       "      border-color: transparent;\n",
       "      border-bottom-color: var(--fill-color);\n",
       "      border-left-color: var(--fill-color);\n",
       "    }\n",
       "    20% {\n",
       "      border-color: transparent;\n",
       "      border-left-color: var(--fill-color);\n",
       "      border-top-color: var(--fill-color);\n",
       "    }\n",
       "    30% {\n",
       "      border-color: transparent;\n",
       "      border-left-color: var(--fill-color);\n",
       "      border-top-color: var(--fill-color);\n",
       "      border-right-color: var(--fill-color);\n",
       "    }\n",
       "    40% {\n",
       "      border-color: transparent;\n",
       "      border-right-color: var(--fill-color);\n",
       "      border-top-color: var(--fill-color);\n",
       "    }\n",
       "    60% {\n",
       "      border-color: transparent;\n",
       "      border-right-color: var(--fill-color);\n",
       "    }\n",
       "    80% {\n",
       "      border-color: transparent;\n",
       "      border-right-color: var(--fill-color);\n",
       "      border-bottom-color: var(--fill-color);\n",
       "    }\n",
       "    90% {\n",
       "      border-color: transparent;\n",
       "      border-bottom-color: var(--fill-color);\n",
       "    }\n",
       "  }\n",
       "</style>\n",
       "\n",
       "  <script>\n",
       "    async function quickchart(key) {\n",
       "      const quickchartButtonEl =\n",
       "        document.querySelector('#' + key + ' button');\n",
       "      quickchartButtonEl.disabled = true;  // To prevent multiple clicks.\n",
       "      quickchartButtonEl.classList.add('colab-df-spinner');\n",
       "      try {\n",
       "        const charts = await google.colab.kernel.invokeFunction(\n",
       "            'suggestCharts', [key], {});\n",
       "      } catch (error) {\n",
       "        console.error('Error during call to suggestCharts:', error);\n",
       "      }\n",
       "      quickchartButtonEl.classList.remove('colab-df-spinner');\n",
       "      quickchartButtonEl.classList.add('colab-df-quickchart-complete');\n",
       "    }\n",
       "    (() => {\n",
       "      let quickchartButtonEl =\n",
       "        document.querySelector('#df-cad3f766-2af3-4907-86f3-708c69d42a82 button');\n",
       "      quickchartButtonEl.style.display =\n",
       "        google.colab.kernel.accessAllowed ? 'block' : 'none';\n",
       "    })();\n",
       "  </script>\n",
       "</div>\n",
       "    </div>\n",
       "  </div>\n"
      ],
      "text/plain": [
       "            label                                           sentence  \\\n",
       "0  not_propaganda         No, <BOS> he <EOS> will not be confirmed.    \n",
       "1  not_propaganda  This declassification effort <BOS> won’t make ...   \n",
       "2     flag_waving  \"The Obama administration misled the <BOS> Ame...   \n",
       "3  not_propaganda  “It looks like we’re capturing the demise of t...   \n",
       "4  not_propaganda           <BOS> Location: Westerville, Ohio <EOS>    \n",
       "\n",
       "                                             snippet  sentence_lengths  \\\n",
       "0                                                he                 14   \n",
       "1   won’t make things any worse than they are for...                23   \n",
       "2                                   American people                 31   \n",
       "3                                               and                 49   \n",
       "4                       Location: Westerville, Ohio                 11   \n",
       "\n",
       "   snippet_lengths  binary_label  multiclass_label  \n",
       "0                1             0                 7  \n",
       "1               14             0                 7  \n",
       "2                2             1                 4  \n",
       "3                1             0                 7  \n",
       "4                5             0                 7  "
      ]
     },
     "execution_count": 12,
     "metadata": {},
     "output_type": "execute_result"
    }
   ],
   "source": [
    "train_df.head()"
   ]
  },
  {
   "cell_type": "code",
   "execution_count": 13,
   "id": "26e53381-abad-4fb3-99d6-0c43a7d4ff4e",
   "metadata": {
    "colab": {
     "base_uri": "https://localhost:8080/",
     "height": 293
    },
    "id": "26e53381-abad-4fb3-99d6-0c43a7d4ff4e",
    "outputId": "df3c39c5-f365-4a08-a379-6a5d4d879990"
   },
   "outputs": [
    {
     "data": {
      "application/vnd.google.colaboratory.intrinsic+json": {
       "summary": "{\n  \"name\": \"test_df\",\n  \"rows\": 640,\n  \"fields\": [\n    {\n      \"column\": \"label\",\n      \"properties\": {\n        \"dtype\": \"category\",\n        \"num_unique_values\": 9,\n        \"samples\": [\n          \"doubt\",\n          \"causal_oversimplification\",\n          \"loaded_language\"\n        ],\n        \"semantic_type\": \"\",\n        \"description\": \"\"\n      }\n    },\n    {\n      \"column\": \"sentence\",\n      \"properties\": {\n        \"dtype\": \"string\",\n        \"num_unique_values\": 640,\n        \"samples\": [\n          \"That did not hinder other outlets to add to its <BOS> smear <EOS>. \",\n          \"<BOS> And only one force in the region has the power to reverse the present outcome of Syria's civil war--the United States <EOS>. \",\n          \"To <BOS> achieve that and hold onto power the prime minister, 54, has used methods that critics have called authoritarian, and picked fights with EU partners, especially in the West. <EOS> \"\n        ],\n        \"semantic_type\": \"\",\n        \"description\": \"\"\n      }\n    },\n    {\n      \"column\": \"snippet\",\n      \"properties\": {\n        \"dtype\": \"string\",\n        \"num_unique_values\": 628,\n        \"samples\": [\n          \" our future \",\n          \" severely cold temperatures, the Museum \",\n          \" CC \\u201822, \"\n        ],\n        \"semantic_type\": \"\",\n        \"description\": \"\"\n      }\n    },\n    {\n      \"column\": \"binary_label\",\n      \"properties\": {\n        \"dtype\": \"number\",\n        \"std\": 0,\n        \"min\": 0,\n        \"max\": 1,\n        \"num_unique_values\": 2,\n        \"samples\": [\n          1,\n          0\n        ],\n        \"semantic_type\": \"\",\n        \"description\": \"\"\n      }\n    },\n    {\n      \"column\": \"multiclass_label\",\n      \"properties\": {\n        \"dtype\": \"number\",\n        \"std\": 2,\n        \"min\": 0,\n        \"max\": 8,\n        \"num_unique_values\": 9,\n        \"samples\": [\n          2,\n          1\n        ],\n        \"semantic_type\": \"\",\n        \"description\": \"\"\n      }\n    }\n  ]\n}",
       "type": "dataframe",
       "variable_name": "test_df"
      },
      "text/html": [
       "\n",
       "  <div id=\"df-1ff8bdf8-c300-4169-8579-84e5834afc5e\" class=\"colab-df-container\">\n",
       "    <div>\n",
       "<style scoped>\n",
       "    .dataframe tbody tr th:only-of-type {\n",
       "        vertical-align: middle;\n",
       "    }\n",
       "\n",
       "    .dataframe tbody tr th {\n",
       "        vertical-align: top;\n",
       "    }\n",
       "\n",
       "    .dataframe thead th {\n",
       "        text-align: right;\n",
       "    }\n",
       "</style>\n",
       "<table border=\"1\" class=\"dataframe\">\n",
       "  <thead>\n",
       "    <tr style=\"text-align: right;\">\n",
       "      <th></th>\n",
       "      <th>label</th>\n",
       "      <th>sentence</th>\n",
       "      <th>snippet</th>\n",
       "      <th>binary_label</th>\n",
       "      <th>multiclass_label</th>\n",
       "    </tr>\n",
       "  </thead>\n",
       "  <tbody>\n",
       "    <tr>\n",
       "      <th>0</th>\n",
       "      <td>not_propaganda</td>\n",
       "      <td>On average, between 300 and 600 infections are...</td>\n",
       "      <td>according to a UN estimate.</td>\n",
       "      <td>0</td>\n",
       "      <td>7</td>\n",
       "    </tr>\n",
       "    <tr>\n",
       "      <th>1</th>\n",
       "      <td>causal_oversimplification</td>\n",
       "      <td>Mostly because &lt;BOS&gt; the country would not las...</td>\n",
       "      <td>the country would not last long without an ou...</td>\n",
       "      <td>1</td>\n",
       "      <td>1</td>\n",
       "    </tr>\n",
       "    <tr>\n",
       "      <th>2</th>\n",
       "      <td>appeal_to_fear_prejudice</td>\n",
       "      <td>Lyndon Johnson &lt;BOS&gt; gets Earl Warren and Sen....</td>\n",
       "      <td>gets Earl Warren and Sen. Richard Russel to j...</td>\n",
       "      <td>1</td>\n",
       "      <td>0</td>\n",
       "    </tr>\n",
       "    <tr>\n",
       "      <th>3</th>\n",
       "      <td>not_propaganda</td>\n",
       "      <td>&lt;BOS&gt; You &lt;EOS&gt; may opt out at anytime.</td>\n",
       "      <td>You</td>\n",
       "      <td>0</td>\n",
       "      <td>7</td>\n",
       "    </tr>\n",
       "    <tr>\n",
       "      <th>4</th>\n",
       "      <td>repetition</td>\n",
       "      <td>It must be exacted from him directly in order ...</td>\n",
       "      <td>infidels</td>\n",
       "      <td>1</td>\n",
       "      <td>8</td>\n",
       "    </tr>\n",
       "  </tbody>\n",
       "</table>\n",
       "</div>\n",
       "    <div class=\"colab-df-buttons\">\n",
       "\n",
       "  <div class=\"colab-df-container\">\n",
       "    <button class=\"colab-df-convert\" onclick=\"convertToInteractive('df-1ff8bdf8-c300-4169-8579-84e5834afc5e')\"\n",
       "            title=\"Convert this dataframe to an interactive table.\"\n",
       "            style=\"display:none;\">\n",
       "\n",
       "  <svg xmlns=\"http://www.w3.org/2000/svg\" height=\"24px\" viewBox=\"0 -960 960 960\">\n",
       "    <path d=\"M120-120v-720h720v720H120Zm60-500h600v-160H180v160Zm220 220h160v-160H400v160Zm0 220h160v-160H400v160ZM180-400h160v-160H180v160Zm440 0h160v-160H620v160ZM180-180h160v-160H180v160Zm440 0h160v-160H620v160Z\"/>\n",
       "  </svg>\n",
       "    </button>\n",
       "\n",
       "  <style>\n",
       "    .colab-df-container {\n",
       "      display:flex;\n",
       "      gap: 12px;\n",
       "    }\n",
       "\n",
       "    .colab-df-convert {\n",
       "      background-color: #E8F0FE;\n",
       "      border: none;\n",
       "      border-radius: 50%;\n",
       "      cursor: pointer;\n",
       "      display: none;\n",
       "      fill: #1967D2;\n",
       "      height: 32px;\n",
       "      padding: 0 0 0 0;\n",
       "      width: 32px;\n",
       "    }\n",
       "\n",
       "    .colab-df-convert:hover {\n",
       "      background-color: #E2EBFA;\n",
       "      box-shadow: 0px 1px 2px rgba(60, 64, 67, 0.3), 0px 1px 3px 1px rgba(60, 64, 67, 0.15);\n",
       "      fill: #174EA6;\n",
       "    }\n",
       "\n",
       "    .colab-df-buttons div {\n",
       "      margin-bottom: 4px;\n",
       "    }\n",
       "\n",
       "    [theme=dark] .colab-df-convert {\n",
       "      background-color: #3B4455;\n",
       "      fill: #D2E3FC;\n",
       "    }\n",
       "\n",
       "    [theme=dark] .colab-df-convert:hover {\n",
       "      background-color: #434B5C;\n",
       "      box-shadow: 0px 1px 3px 1px rgba(0, 0, 0, 0.15);\n",
       "      filter: drop-shadow(0px 1px 2px rgba(0, 0, 0, 0.3));\n",
       "      fill: #FFFFFF;\n",
       "    }\n",
       "  </style>\n",
       "\n",
       "    <script>\n",
       "      const buttonEl =\n",
       "        document.querySelector('#df-1ff8bdf8-c300-4169-8579-84e5834afc5e button.colab-df-convert');\n",
       "      buttonEl.style.display =\n",
       "        google.colab.kernel.accessAllowed ? 'block' : 'none';\n",
       "\n",
       "      async function convertToInteractive(key) {\n",
       "        const element = document.querySelector('#df-1ff8bdf8-c300-4169-8579-84e5834afc5e');\n",
       "        const dataTable =\n",
       "          await google.colab.kernel.invokeFunction('convertToInteractive',\n",
       "                                                    [key], {});\n",
       "        if (!dataTable) return;\n",
       "\n",
       "        const docLinkHtml = 'Like what you see? Visit the ' +\n",
       "          '<a target=\"_blank\" href=https://colab.research.google.com/notebooks/data_table.ipynb>data table notebook</a>'\n",
       "          + ' to learn more about interactive tables.';\n",
       "        element.innerHTML = '';\n",
       "        dataTable['output_type'] = 'display_data';\n",
       "        await google.colab.output.renderOutput(dataTable, element);\n",
       "        const docLink = document.createElement('div');\n",
       "        docLink.innerHTML = docLinkHtml;\n",
       "        element.appendChild(docLink);\n",
       "      }\n",
       "    </script>\n",
       "  </div>\n",
       "\n",
       "\n",
       "<div id=\"df-8df47942-9824-4a00-a34d-7a4049f5f10e\">\n",
       "  <button class=\"colab-df-quickchart\" onclick=\"quickchart('df-8df47942-9824-4a00-a34d-7a4049f5f10e')\"\n",
       "            title=\"Suggest charts\"\n",
       "            style=\"display:none;\">\n",
       "\n",
       "<svg xmlns=\"http://www.w3.org/2000/svg\" height=\"24px\"viewBox=\"0 0 24 24\"\n",
       "     width=\"24px\">\n",
       "    <g>\n",
       "        <path d=\"M19 3H5c-1.1 0-2 .9-2 2v14c0 1.1.9 2 2 2h14c1.1 0 2-.9 2-2V5c0-1.1-.9-2-2-2zM9 17H7v-7h2v7zm4 0h-2V7h2v10zm4 0h-2v-4h2v4z\"/>\n",
       "    </g>\n",
       "</svg>\n",
       "  </button>\n",
       "\n",
       "<style>\n",
       "  .colab-df-quickchart {\n",
       "      --bg-color: #E8F0FE;\n",
       "      --fill-color: #1967D2;\n",
       "      --hover-bg-color: #E2EBFA;\n",
       "      --hover-fill-color: #174EA6;\n",
       "      --disabled-fill-color: #AAA;\n",
       "      --disabled-bg-color: #DDD;\n",
       "  }\n",
       "\n",
       "  [theme=dark] .colab-df-quickchart {\n",
       "      --bg-color: #3B4455;\n",
       "      --fill-color: #D2E3FC;\n",
       "      --hover-bg-color: #434B5C;\n",
       "      --hover-fill-color: #FFFFFF;\n",
       "      --disabled-bg-color: #3B4455;\n",
       "      --disabled-fill-color: #666;\n",
       "  }\n",
       "\n",
       "  .colab-df-quickchart {\n",
       "    background-color: var(--bg-color);\n",
       "    border: none;\n",
       "    border-radius: 50%;\n",
       "    cursor: pointer;\n",
       "    display: none;\n",
       "    fill: var(--fill-color);\n",
       "    height: 32px;\n",
       "    padding: 0;\n",
       "    width: 32px;\n",
       "  }\n",
       "\n",
       "  .colab-df-quickchart:hover {\n",
       "    background-color: var(--hover-bg-color);\n",
       "    box-shadow: 0 1px 2px rgba(60, 64, 67, 0.3), 0 1px 3px 1px rgba(60, 64, 67, 0.15);\n",
       "    fill: var(--button-hover-fill-color);\n",
       "  }\n",
       "\n",
       "  .colab-df-quickchart-complete:disabled,\n",
       "  .colab-df-quickchart-complete:disabled:hover {\n",
       "    background-color: var(--disabled-bg-color);\n",
       "    fill: var(--disabled-fill-color);\n",
       "    box-shadow: none;\n",
       "  }\n",
       "\n",
       "  .colab-df-spinner {\n",
       "    border: 2px solid var(--fill-color);\n",
       "    border-color: transparent;\n",
       "    border-bottom-color: var(--fill-color);\n",
       "    animation:\n",
       "      spin 1s steps(1) infinite;\n",
       "  }\n",
       "\n",
       "  @keyframes spin {\n",
       "    0% {\n",
       "      border-color: transparent;\n",
       "      border-bottom-color: var(--fill-color);\n",
       "      border-left-color: var(--fill-color);\n",
       "    }\n",
       "    20% {\n",
       "      border-color: transparent;\n",
       "      border-left-color: var(--fill-color);\n",
       "      border-top-color: var(--fill-color);\n",
       "    }\n",
       "    30% {\n",
       "      border-color: transparent;\n",
       "      border-left-color: var(--fill-color);\n",
       "      border-top-color: var(--fill-color);\n",
       "      border-right-color: var(--fill-color);\n",
       "    }\n",
       "    40% {\n",
       "      border-color: transparent;\n",
       "      border-right-color: var(--fill-color);\n",
       "      border-top-color: var(--fill-color);\n",
       "    }\n",
       "    60% {\n",
       "      border-color: transparent;\n",
       "      border-right-color: var(--fill-color);\n",
       "    }\n",
       "    80% {\n",
       "      border-color: transparent;\n",
       "      border-right-color: var(--fill-color);\n",
       "      border-bottom-color: var(--fill-color);\n",
       "    }\n",
       "    90% {\n",
       "      border-color: transparent;\n",
       "      border-bottom-color: var(--fill-color);\n",
       "    }\n",
       "  }\n",
       "</style>\n",
       "\n",
       "  <script>\n",
       "    async function quickchart(key) {\n",
       "      const quickchartButtonEl =\n",
       "        document.querySelector('#' + key + ' button');\n",
       "      quickchartButtonEl.disabled = true;  // To prevent multiple clicks.\n",
       "      quickchartButtonEl.classList.add('colab-df-spinner');\n",
       "      try {\n",
       "        const charts = await google.colab.kernel.invokeFunction(\n",
       "            'suggestCharts', [key], {});\n",
       "      } catch (error) {\n",
       "        console.error('Error during call to suggestCharts:', error);\n",
       "      }\n",
       "      quickchartButtonEl.classList.remove('colab-df-spinner');\n",
       "      quickchartButtonEl.classList.add('colab-df-quickchart-complete');\n",
       "    }\n",
       "    (() => {\n",
       "      let quickchartButtonEl =\n",
       "        document.querySelector('#df-8df47942-9824-4a00-a34d-7a4049f5f10e button');\n",
       "      quickchartButtonEl.style.display =\n",
       "        google.colab.kernel.accessAllowed ? 'block' : 'none';\n",
       "    })();\n",
       "  </script>\n",
       "</div>\n",
       "    </div>\n",
       "  </div>\n"
      ],
      "text/plain": [
       "                       label  \\\n",
       "0             not_propaganda   \n",
       "1  causal_oversimplification   \n",
       "2   appeal_to_fear_prejudice   \n",
       "3             not_propaganda   \n",
       "4                 repetition   \n",
       "\n",
       "                                            sentence  \\\n",
       "0  On average, between 300 and 600 infections are...   \n",
       "1  Mostly because <BOS> the country would not las...   \n",
       "2  Lyndon Johnson <BOS> gets Earl Warren and Sen....   \n",
       "3           <BOS> You <EOS> may opt out at anytime.    \n",
       "4  It must be exacted from him directly in order ...   \n",
       "\n",
       "                                             snippet  binary_label  \\\n",
       "0                       according to a UN estimate.              0   \n",
       "1   the country would not last long without an ou...             1   \n",
       "2   gets Earl Warren and Sen. Richard Russel to j...             1   \n",
       "3                                               You              0   \n",
       "4                                          infidels              1   \n",
       "\n",
       "   multiclass_label  \n",
       "0                 7  \n",
       "1                 1  \n",
       "2                 0  \n",
       "3                 7  \n",
       "4                 8  "
      ]
     },
     "execution_count": 13,
     "metadata": {},
     "output_type": "execute_result"
    }
   ],
   "source": [
    "test_df.head()"
   ]
  },
  {
   "cell_type": "markdown",
   "id": "02b99638-9d9d-419e-8d88-0505a19227da",
   "metadata": {
    "id": "02b99638-9d9d-419e-8d88-0505a19227da"
   },
   "source": [
    "## Bag of Words Approach With Sentence"
   ]
  },
  {
   "cell_type": "code",
   "execution_count": 14,
   "id": "ff2e00e5-d4bc-4c7d-bea5-f23203e0854a",
   "metadata": {
    "id": "ff2e00e5-d4bc-4c7d-bea5-f23203e0854a"
   },
   "outputs": [],
   "source": [
    "#definging features and response variable\n",
    "X_train_sentence = train_df[\"sentence\"]\n",
    "y_train_sentence = train_df[\"binary_label\"]\n",
    "X_test_sentence = test_df[\"sentence\"]\n",
    "y_test_sentence = test_df[\"binary_label\"]"
   ]
  },
  {
   "cell_type": "code",
   "execution_count": 15,
   "id": "2e94e45b-05f5-48d2-8bf1-cb0901164e1d",
   "metadata": {
    "colab": {
     "base_uri": "https://localhost:8080/"
    },
    "id": "2e94e45b-05f5-48d2-8bf1-cb0901164e1d",
    "outputId": "f3e75a89-02a2-4af8-f4b4-5c776e4577f1",
    "tags": []
   },
   "outputs": [
    {
     "name": "stdout",
     "output_type": "stream",
     "text": [
      "Cross-validation results: [0.66015625 0.62890625 0.6796875  0.69140625 0.68359375 0.7265625\n",
      " 0.65625    0.70703125 0.6875     0.703125  ]\n",
      "              precision    recall  f1-score   support\n",
      "\n",
      "           0       0.83      0.52      0.64       331\n",
      "           1       0.63      0.88      0.74       309\n",
      "\n",
      "    accuracy                           0.70       640\n",
      "   macro avg       0.73      0.70      0.69       640\n",
      "weighted avg       0.73      0.70      0.69       640\n",
      "\n"
     ]
    }
   ],
   "source": [
    "#creating bag of word representation of the sentences\n",
    "vectorizer = CountVectorizer()\n",
    "vectorizer.fit(X_train_sentence)\n",
    "X_train_counts = vectorizer.transform(X_train_sentence)\n",
    "X_test_counts = vectorizer.transform(X_test_sentence)\n",
    "\n",
    "#replacing Count with TF-IDF\n",
    "tfidf_transformer = TfidfTransformer()\n",
    "X_train_vectors = tfidf_transformer.fit_transform(X_train_counts)\n",
    "X_test_vectors = tfidf_transformer.transform(X_test_counts)\n",
    "#training a classifer using the BoW vectors\n",
    "sentence_classifier = MultinomialNB()\n",
    "sentence_classifier.fit(X_train_vectors,y_train_sentence)\n",
    "\n",
    "#evaluating the classifier on validation set\n",
    "kfold = KFold(n_splits = 10, shuffle = True, random_state = 42)\n",
    "cv_results = cross_val_score(sentence_classifier, X_train_vectors, y_train_sentence, cv = kfold, scoring = 'accuracy')\n",
    "print(\"Cross-validation results:\", cv_results)\n",
    "\n",
    "#evaluating the classifier on test set\n",
    "test_df[\"binary_prediction\"] = sentence_classifier.predict(X_test_vectors)\n",
    "print(classification_report(y_test_sentence, test_df[\"binary_prediction\"]))"
   ]
  },
  {
   "cell_type": "code",
   "execution_count": 16,
   "id": "0b30d691-b1fb-42e1-b1c8-3fb80059cfd2",
   "metadata": {
    "colab": {
     "base_uri": "https://localhost:8080/",
     "height": 452
    },
    "id": "0b30d691-b1fb-42e1-b1c8-3fb80059cfd2",
    "outputId": "a70656f0-ac11-4f96-9415-6e575d55e3e3"
   },
   "outputs": [
    {
     "data": {
      "image/png": "[encoded data removed]",
      "text/plain": [
       "<Figure size 640x480 with 1 Axes>"
      ]
     },
     "metadata": {},
     "output_type": "display_data"
    }
   ],
   "source": [
    "#analysis of errors\n",
    "test_df['sentence_lengths'] = test_df['sentence'].apply(lambda x: len(word_tokenize(x.lower())))\n",
    "correct_preds = test_df[test_df[\"binary_label\"]==test_df[\"binary_prediction\"]]\n",
    "erroneous_pred = test_df[test_df[\"binary_label\"]!=test_df[\"binary_prediction\"]]\n",
    "#plotting the predicitons\n",
    "fig, ax = plt.subplots()\n",
    "\n",
    "#Box plot for correct predictions\n",
    "ax.boxplot(correct_preds['sentence_lengths'], positions=[1], widths=0.6, patch_artist=True, boxprops=dict(facecolor='white', color='green'))\n",
    "#Box plot for errors\n",
    "ax.boxplot(erroneous_pred['sentence_lengths'], positions=[2], widths=0.6, patch_artist=True, boxprops=dict(facecolor='white', color='red'))\n",
    "\n",
    "ax.set_xticklabels(['Correct', 'Error'])\n",
    "ax.set_ylabel('Sentence Lengths')\n",
    "ax.set_title('Analysis of Sentence Length for Correct and Erroneous Predictions')\n",
    "plt.savefig('Error anlysis - sentence.png', bbox_inches='tight')\n",
    "plt.show()"
   ]
  },
  {
   "cell_type": "markdown",
   "id": "910e2edf-efc1-40f3-b80b-c442442453d0",
   "metadata": {
    "id": "910e2edf-efc1-40f3-b80b-c442442453d0"
   },
   "source": [
    "## Bag of Words Approach with Snippet"
   ]
  },
  {
   "cell_type": "code",
   "execution_count": 17,
   "id": "70a1ef53-0779-4417-b540-47f89e0eb0e0",
   "metadata": {
    "colab": {
     "base_uri": "https://localhost:8080/"
    },
    "id": "70a1ef53-0779-4417-b540-47f89e0eb0e0",
    "outputId": "b1ab9885-f8ee-4815-af74-cf6168ddd1b9"
   },
   "outputs": [
    {
     "name": "stdout",
     "output_type": "stream",
     "text": [
      "Cross-validation results: [0.38461538 0.43410853 0.46511628 0.41860465 0.41860465 0.44186047\n",
      " 0.40310078 0.4496124  0.34883721 0.43410853]\n",
      "              precision    recall  f1-score   support\n",
      "\n",
      "           0       0.56      0.47      0.51        43\n",
      "           1       0.29      0.86      0.44        35\n",
      "           2       0.40      0.44      0.42        43\n",
      "           3       0.33      0.43      0.37        30\n",
      "           4       0.66      0.60      0.63        45\n",
      "           5       0.73      0.21      0.32        39\n",
      "           6       0.50      0.26      0.35        34\n",
      "           8       0.79      0.28      0.41        40\n",
      "\n",
      "    accuracy                           0.44       309\n",
      "   macro avg       0.53      0.44      0.43       309\n",
      "weighted avg       0.54      0.44      0.44       309\n",
      "\n"
     ]
    }
   ],
   "source": [
    "#filtering only propaganda snippet\n",
    "train_snippet_df = train_df[train_df[\"label\"]!=\"not_propaganda\"].copy(deep=True)\n",
    "test_snippet_df = test_df[test_df[\"label\"]!=\"not_propaganda\"].copy(deep=True)\n",
    "\n",
    "#divinding train and test sets\n",
    "X_train_snippet = train_snippet_df['snippet']\n",
    "y_train_snippet = train_snippet_df[\"multiclass_label\"]\n",
    "X_test_snippet = test_snippet_df['snippet']\n",
    "y_test_snippet = test_snippet_df[\"multiclass_label\"]\n",
    "\n",
    "#creating tf-idf vectors\n",
    "vectorizer = TfidfVectorizer()\n",
    "vectorizer.fit(X_train_snippet)\n",
    "X_train_tfidf = vectorizer.transform(X_train_snippet)\n",
    "X_test_tfidf = vectorizer.transform(X_test_snippet)\n",
    "\n",
    "#multi-class classification with MultinomialNB\n",
    "snippet_classifier = MultinomialNB()\n",
    "snippet_classifier.fit(X_train_tfidf,y_train_snippet)\n",
    "\n",
    "#evaluating the classifier on validation set\n",
    "kfold = KFold(n_splits = 10, shuffle = True, random_state = 42)\n",
    "cv_results = cross_val_score(snippet_classifier, X_train_tfidf, y_train_snippet, cv = kfold, scoring = 'accuracy')\n",
    "print(\"Cross-validation results:\", cv_results)\n",
    "\n",
    "#evaluating the classifier on test set\n",
    "test_snippet_df[\"multiclass_prediction\"] = snippet_classifier.predict(X_test_tfidf)\n",
    "print(classification_report(y_test_snippet, test_snippet_df[\"multiclass_prediction\"]))"
   ]
  },
  {
   "cell_type": "code",
   "execution_count": 18,
   "id": "15777eb0-c41d-4130-9063-5efa57758cba",
   "metadata": {
    "colab": {
     "base_uri": "https://localhost:8080/",
     "height": 693
    },
    "id": "15777eb0-c41d-4130-9063-5efa57758cba",
    "outputId": "4138ce61-9b99-4a53-f41d-350e8b154236"
   },
   "outputs": [
    {
     "data": {
      "image/png": "[encoded data removed]",
      "text/plain": [
       "<Figure size 1500x1000 with 8 Axes>"
      ]
     },
     "metadata": {},
     "output_type": "display_data"
    }
   ],
   "source": [
    "#analysising errors\n",
    "test_snippet_df['snippet_lengths'] = test_snippet_df['snippet'].apply(lambda x: len(word_tokenize(x.lower())))\n",
    "correct_preds = test_snippet_df[test_snippet_df[\"multiclass_label\"]==test_snippet_df[\"multiclass_prediction\"]]\n",
    "erroneous_pred = test_snippet_df[test_snippet_df[\"multiclass_label\"]!=test_snippet_df[\"multiclass_prediction\"]]\n",
    "\n",
    "# Creating figure to plot spearate box-plots for each class\n",
    "labels = test_snippet_df['label'].unique()\n",
    "fig, axs = plt.subplots(2, 4, figsize=(15, 10), sharey=True)\n",
    "axs = axs.flatten()\n",
    "\n",
    "#looping through each label and creating box plots\n",
    "for i, label in enumerate(labels):\n",
    "    # Filtering data for correct predictions and errors for the current label\n",
    "    correct_lengths = correct_preds[correct_preds['label'] == label]['snippet_lengths']\n",
    "    error_lengths = erroneous_pred[erroneous_pred['label'] == label]['snippet_lengths']\n",
    "\n",
    "    #plotting the box-plots\n",
    "    axs[i-1].boxplot(correct_lengths, positions=[1], widths=0.6, patch_artist=True, boxprops=dict(facecolor='white', color='green'))\n",
    "    axs[i-1].boxplot(error_lengths, positions=[2], widths=0.6, patch_artist=True, boxprops=dict(facecolor='white', color='red'))\n",
    "    axs[i-1].set_xticklabels(['Correct', 'Errors'])\n",
    "    axs[i-1].set_title(f'{label}')\n",
    "    axs[i-1].set_ylabel('Snippet Lengths')\n",
    "\n",
    "\n",
    "plt.suptitle('Analysis of Snippet Length for Correct and Erroneous Predictions')\n",
    "plt.savefig('Error anlysis - snippet.png', bbox_inches='tight')\n",
    "plt.show()"
   ]
  },
  {
   "cell_type": "code",
   "execution_count": 19,
   "id": "3372be61-d4ee-4836-a483-17710f72bb88",
   "metadata": {
    "colab": {
     "base_uri": "https://localhost:8080/"
    },
    "id": "3372be61-d4ee-4836-a483-17710f72bb88",
    "outputId": "dedf8b4a-e920-42ee-8297-99025d6cbe3e"
   },
   "outputs": [
    {
     "data": {
      "text/plain": [
       "39     14\n",
       "44      6\n",
       "52     79\n",
       "53      1\n",
       "61     53\n",
       "101    19\n",
       "124    35\n",
       "127    27\n",
       "150    11\n",
       "153     1\n",
       "178    24\n",
       "190     1\n",
       "298    53\n",
       "388     6\n",
       "442    10\n",
       "464    28\n",
       "477    39\n",
       "487    16\n",
       "494     6\n",
       "593    28\n",
       "597    20\n",
       "602    48\n",
       "622     9\n",
       "624     7\n",
       "Name: snippet_lengths, dtype: int64"
      ]
     },
     "execution_count": 19,
     "metadata": {},
     "output_type": "execute_result"
    }
   ],
   "source": [
    "erroneous_pred[erroneous_pred['label'] == 'doubt']['snippet_lengths']"
   ]
  },
  {
   "cell_type": "code",
   "execution_count": 20,
   "id": "0ed0494d-a29c-4271-931c-50f597c9da17",
   "metadata": {
    "colab": {
     "base_uri": "https://localhost:8080/"
    },
    "id": "0ed0494d-a29c-4271-931c-50f597c9da17",
    "outputId": "cf05653e-3b9c-4fd6-b3e3-c009e1a7f3e5"
   },
   "outputs": [
    {
     "data": {
      "text/plain": [
       "77      The American people are not going to put up w...\n",
       "79      Latino Voters Show Trump What It Means to Be ...\n",
       "90      Instead of reaching out to the greatest demog...\n",
       "97      we hope and pray that all the good U.S. bisho...\n",
       "134     But it is also about freedom of speech, about...\n",
       "165     In a nation guided by fairness and law, a per...\n",
       "248     European nations which have encouraged migrat...\n",
       "261     We are supposed to serve as an example to the...\n",
       "265     And only one force in the region has the powe...\n",
       "272     Maybe he should have taken the time to look t...\n",
       "321     They are weak and pathetic and they have no e...\n",
       "323                                   the United States \n",
       "327     If you (Americans) are committed to counterin...\n",
       "349     Could the good people of Massachusetts do us ...\n",
       "370     I applaud the brave men and women of ICE who ...\n",
       "415     the “establishment of an Islamic state…requir...\n",
       "510     9 concrete steps that, if implemented by a fu...\n",
       "638     He also sang an Islamic State fight song and ...\n",
       "Name: snippet, dtype: object"
      ]
     },
     "execution_count": 20,
     "metadata": {},
     "output_type": "execute_result"
    }
   ],
   "source": [
    "erroneous_pred[erroneous_pred['label'] == 'flag_waving']['snippet']"
   ]
  },
  {
   "cell_type": "markdown",
   "id": "a4182e5e-9dce-4981-a918-92d876ab9b32",
   "metadata": {
    "id": "a4182e5e-9dce-4981-a918-92d876ab9b32"
   },
   "source": [
    "## BERT Approach"
   ]
  },
  {
   "cell_type": "markdown",
   "id": "D1XyJ4C7qZ4N",
   "metadata": {
    "id": "D1XyJ4C7qZ4N"
   },
   "source": [
    "### Implementing BERT"
   ]
  },
  {
   "cell_type": "code",
   "execution_count": 21,
   "id": "8654fa8c-18f5-4511-894d-63c7cf814307",
   "metadata": {
    "id": "8654fa8c-18f5-4511-894d-63c7cf814307"
   },
   "outputs": [],
   "source": [
    "#this function tokenizes the data and creates tensors for input_ids, attention_masks and labels\n",
    "def tokenize_data(sentences, labels):\n",
    "    #initialize input IDs and attention masks\n",
    "    input_ids = []\n",
    "    attention_masks = []\n",
    "\n",
    "    # Iterate over each sentence and encode the sentence using the tokenizer\n",
    "    for sentence in sentences:\n",
    "        encoded_dict = tokenizer.encode_plus(\n",
    "            sentence,\n",
    "            add_special_tokens=True,  #Add special tokens like [CLS] and [SEP]\n",
    "            max_length=64,  #Maximum length of the input sequence\n",
    "            padding='max_length',  #Pad the input sequence to the maximum length\n",
    "            truncation=True,  #Truncate the input sequence if it exceeds the maximum length\n",
    "            return_attention_mask=True,  #Return an attention mask tensor\n",
    "            return_tensors='pt'  #Return PyTorch tensors\n",
    "        )\n",
    "\n",
    "        #storing the input IDs and attention masks to the respective lists\n",
    "        input_ids.append(encoded_dict['input_ids'])\n",
    "        attention_masks.append(encoded_dict['attention_mask'])\n",
    "\n",
    "    #converting the lists of input IDs and attention masks to PyTorch tensors\n",
    "    input_ids = torch.cat(input_ids, dim=0)\n",
    "    attention_masks = torch.cat(attention_masks, dim=0)\n",
    "\n",
    "    #converting the labels to a PyTorch tensor\n",
    "    labels = torch.tensor(labels)\n",
    "\n",
    "    return input_ids, attention_masks, labels"
   ]
  },
  {
   "cell_type": "code",
   "execution_count": 22,
   "id": "d976fa10-f7c5-40f8-a8da-991f965248c3",
   "metadata": {
    "id": "d976fa10-f7c5-40f8-a8da-991f965248c3"
   },
   "outputs": [],
   "source": [
    "#This functions prepares the dataset for BERT model\n",
    "def create_dataloaders(feature, label, batch_size):\n",
    "    #selecting features and labels\n",
    "    X_train = train_df[feature]\n",
    "    y_train = train_df[label]\n",
    "    X_val = test_df[feature]\n",
    "    y_val = test_df[label]\n",
    "\n",
    "    #creating tensor of input_ids, attention_masks and labels for training and validation sets\n",
    "    train_input_ids, train_attention_masks, train_labels = tokenize_data(X_train, y_train)\n",
    "    val_input_ids, val_attention_masks, val_labels = tokenize_data(X_val, y_val)\n",
    "\n",
    "    #creating DataLoader for training set\n",
    "    train_data = TensorDataset(train_input_ids, train_attention_masks, train_labels)\n",
    "    train_sampler = RandomSampler(train_data)\n",
    "    train_dataloader = DataLoader(train_data, sampler=train_sampler, batch_size=batch_size)\n",
    "\n",
    "    #creating DataLoader for validation set\n",
    "    val_data = TensorDataset(val_input_ids, val_attention_masks, val_labels)\n",
    "    val_sampler = SequentialSampler(val_data)\n",
    "    val_dataloader = DataLoader(val_data, sampler=val_sampler, batch_size=batch_size)\n",
    "\n",
    "    return train_dataloader,val_dataloader"
   ]
  },
  {
   "cell_type": "code",
   "execution_count": 23,
   "id": "7505bdd2-5df6-4803-9975-bbcb47aa0569",
   "metadata": {
    "id": "7505bdd2-5df6-4803-9975-bbcb47aa0569"
   },
   "outputs": [],
   "source": [
    "#This function trains the BERT model\n",
    "def train(model, train_dataloader, val_dataloader, epochs, alpha, device, patience = 10, random_seed = 42, verbose = True):\n",
    "    # Seting random seed for reproducibility\n",
    "    torch.manual_seed(random_seed)\n",
    "    np.random.seed(random_seed)\n",
    "\n",
    "    #creating a copy to keep track of best model\n",
    "    best_model = copy.deepcopy(model)\n",
    "    best_val_accuracy = 0.0\n",
    "\n",
    "    #creating an optimizer instance with the model parameters and the specified learning rate\n",
    "    optimizer = torch.optim.AdamW(model.parameters(), lr=alpha)\n",
    "    val_losses = []\n",
    "    val_results = []\n",
    "\n",
    "    #looping over the specified number of epochs\n",
    "    for epoch in range(epochs):\n",
    "        #Set the model to training mode\n",
    "        model.train()\n",
    "        total_loss = 0\n",
    "        #looping over the training data batches\n",
    "        for batch in train_dataloader:\n",
    "            batch = tuple(t.to(device) for t in batch)  #moving the batch tensors to the specified device (CPU or GPU)\n",
    "            input_ids, attention_mask, labels = batch  #unpacking the batch tensors\n",
    "            optimizer.zero_grad()  #reseting the gradients to zero\n",
    "\n",
    "            #forward pass through the model to obtain the outputs and calculate the loss for the current batch\n",
    "            outputs = model(input_ids, attention_mask=attention_mask, labels=labels)\n",
    "            loss = outputs.loss\n",
    "            total_loss += loss.item()\n",
    "\n",
    "            #backward pass to compute the gradients of the loss and update the model parameters using the gradients and the optimizer\n",
    "            loss.backward()\n",
    "            optimizer.step()\n",
    "\n",
    "        #calculating the average training loss for the epoch\n",
    "        avg_train_loss = total_loss / len(train_dataloader)\n",
    "\n",
    "\n",
    "        #Set the model to evaluation mode\n",
    "        model.eval()\n",
    "        val_loss = 0\n",
    "        val_accuracy = 0\n",
    "        #looping over the validation data batches\n",
    "        for batch in val_dataloader:\n",
    "            batch = tuple(t.to(device) for t in batch)\n",
    "            input_ids, attention_mask, labels = batch\n",
    "\n",
    "            with torch.no_grad():  #disabling gradient computation for evaluation\n",
    "                #forward pass through the model\n",
    "                outputs = model(input_ids, attention_mask=attention_mask, labels=labels)\n",
    "\n",
    "            loss = outputs.loss  #extract the loss value from the model outputs\n",
    "            logits = outputs.logits  #extract the raw scores before applying softmax\n",
    "            val_loss += loss.item()  #calculating the validation loss for current bath\n",
    "            preds = torch.argmax(logits, dim=1).flatten()  #calculating the predicted labels based on the maximum logits\n",
    "            val_accuracy += torch.sum(preds == labels).item() #calculating the number of correct predictions for the current batch\n",
    "\n",
    "        avg_val_loss = val_loss / len(val_dataloader)  #calculating the average validation loss for the epoch\n",
    "        val_accuracy /= VAL_SAMPLES  #calculating the validation accuracy\n",
    "\n",
    "        #printing the results for the current epoch\n",
    "        val_losses.append(avg_val_loss)\n",
    "        val_results.append(val_accuracy)\n",
    "        if verbose:\n",
    "            print(f'Epoch {epoch + 1}/{epochs}')\n",
    "            print(f'Training Loss: {avg_train_loss:.4f}, Validation Loss: {avg_val_loss:.4f}, Validation Accuracy: {val_accuracy:.4f}')\n",
    "\n",
    "        #Save the best model and apply early stopping\n",
    "        if val_accuracy > best_val_accuracy:\n",
    "            best_val_accuracy = val_accuracy\n",
    "            best_model = copy.deepcopy(model)\n",
    "            early_stopping_counter = 0\n",
    "        else:\n",
    "            early_stopping_counter += 1\n",
    "\n",
    "        #Early stopping\n",
    "        if early_stopping_counter >= patience:\n",
    "            print(f\"Early stopping at epoch {epoch + 1}\")\n",
    "            break\n",
    "\n",
    "    # Save the best model\n",
    "    torch.save(best_model.state_dict(), f'best_model_{alpha}.pt')\n",
    "    return val_losses,val_results"
   ]
  },
  {
   "cell_type": "markdown",
   "id": "889ce2d9-151c-4617-a734-c2f687ff5f93",
   "metadata": {
    "id": "889ce2d9-151c-4617-a734-c2f687ff5f93"
   },
   "source": [
    "### BERT for Sentence"
   ]
  },
  {
   "cell_type": "code",
   "execution_count": 24,
   "id": "ba7d36d0-82b5-4c3b-81e8-c82fb6c02860",
   "metadata": {
    "colab": {
     "base_uri": "https://localhost:8080/",
     "height": 269,
     "referenced_widgets": [
      "6437d92ac61645c489ffb9a668ec4852",
      "1c1b37bd02484bdcb6cc8e7180ed6cd5",
      "32574cca06724303805b32030e3caac1",
      "8dadb688f36b43199e4b6048d45dd57a",
      "3213382ec7b1472f9cbeba636c962464",
      "3b4d017596f34d9982e43a4cc08a8125",
      "a2bc334fc44d4bb9b02da68162566678",
      "05215b91a6c044b5b4b8a6f88d955a69",
      "293567c3227b408aadb6029bd4ac1ad7",
      "40b199b70c12485cb789acf694ddec59",
      "08e272b5b2c24bbf833abe718dbbf00b",
      "7dec830809714fbf8447219d0966575b",
      "736c8db58e1148ba84bc4222b0720a53",
      "d9ab6b6a52a24dac92303937742cb7fe",
      "cc6ce683823e4daa93f1b6a568056a9c",
      "7dca88dfbba849a3a9abbdb9f998743e",
      "970309152fd240df8224173c993763eb",
      "4b739c178e84435f9c998f06d909e1cd",
      "c11842e15f0443eaa88e15775664db06",
      "29aaa6ed92d44817b06e1db11dfc9afb",
      "9e8413b739f741b4813651e3b987fb97",
      "1ca924fbb3234ef0b029a9c12887678f",
      "8b6e347652e04a5aa348310ae8153ceb",
      "dbc82c493e734443aae90a5f95b87937",
      "571f8865cf9744168bc9492f51e27742",
      "5f523cc929a0485ab808785905b3bd90",
      "189d4997872447508474af2e5213f61a",
      "8ceb8807a00b4b8a9ee76dd09dea5963",
      "46c8c44d4e424984bfc0ea70c4cab921",
      "315ba37cbbc1418fafa45360f4b03ec7",
      "e1e113456b4f4fa497821f980856101f",
      "f38fb4b5ad7649468191594c8de777ce",
      "01a798a293f14f2e82cb2eab84cf658e",
      "1656496251f04325afb848ec5742dc13",
      "085d2d497ff24ecb9ec2cb67bfb7b01a",
      "cb7e76935e85456fabfb83004f161c47",
      "465954139b8049b9812e18bae7ae31fe",
      "f3f7968688ee4e458995a38ea0cfda58",
      "1e83118457174e35b3c6f61575e34fe9",
      "309cf79ca4014678830ec3ac85c6a246",
      "d21b640c30f44d2d987f127f88dd5196",
      "e9a29b9799214263bf2ad3fcebe05d35",
      "7ff6f14c13fa4ace8ec63c3c4e9ea9d3",
      "a464dc52b9934362bc8c234d59008474"
     ]
    },
    "id": "ba7d36d0-82b5-4c3b-81e8-c82fb6c02860",
    "outputId": "7b2724d0-9707-43bb-c621-a12c66c3205d"
   },
   "outputs": [
    {
     "name": "stderr",
     "output_type": "stream",
     "text": [
      "/usr/local/lib/python3.10/dist-packages/huggingface_hub/utils/_token.py:88: UserWarning: \n",
      "The secret `HF_TOKEN` does not exist in your Colab secrets.\n",
      "To authenticate with the Hugging Face Hub, create a token in your settings tab (https://huggingface.co/settings/tokens), set it as secret in your Google Colab and restart your session.\n",
      "You will be able to reuse this secret in all of your notebooks.\n",
      "Please note that authentication is recommended but still optional to access public models or datasets.\n",
      "  warnings.warn(\n"
     ]
    },
    {
     "data": {
      "application/vnd.jupyter.widget-view+json": {
       "model_id": "6437d92ac61645c489ffb9a668ec4852",
       "version_major": 2,
       "version_minor": 0
      },
      "text/plain": [
       "tokenizer_config.json:   0%|          | 0.00/48.0 [00:00<?, ?B/s]"
      ]
     },
     "metadata": {},
     "output_type": "display_data"
    },
    {
     "data": {
      "application/vnd.jupyter.widget-view+json": {
       "model_id": "7dec830809714fbf8447219d0966575b",
       "version_major": 2,
       "version_minor": 0
      },
      "text/plain": [
       "vocab.txt:   0%|          | 0.00/232k [00:00<?, ?B/s]"
      ]
     },
     "metadata": {},
     "output_type": "display_data"
    },
    {
     "data": {
      "application/vnd.jupyter.widget-view+json": {
       "model_id": "8b6e347652e04a5aa348310ae8153ceb",
       "version_major": 2,
       "version_minor": 0
      },
      "text/plain": [
       "tokenizer.json:   0%|          | 0.00/466k [00:00<?, ?B/s]"
      ]
     },
     "metadata": {},
     "output_type": "display_data"
    },
    {
     "data": {
      "application/vnd.jupyter.widget-view+json": {
       "model_id": "1656496251f04325afb848ec5742dc13",
       "version_major": 2,
       "version_minor": 0
      },
      "text/plain": [
       "config.json:   0%|          | 0.00/570 [00:00<?, ?B/s]"
      ]
     },
     "metadata": {},
     "output_type": "display_data"
    }
   ],
   "source": [
    "# Set device to GPU if available\n",
    "device = torch.device(\"cuda\" if torch.cuda.is_available() else \"cpu\")\n",
    "\n",
    "#loading a pre-trained BERTtokenizer\n",
    "tokenizer = BertTokenizer.from_pretrained('bert-base-uncased',do_lower_case=True)\n",
    "\n",
    "#preparing the feature and label for BERT model\n",
    "feature = 'sentence'\n",
    "label = 'binary_label'\n",
    "batch_size = 32\n",
    "train_dataloader, val_dataloader = create_dataloaders(feature, label, batch_size)"
   ]
  },
  {
   "cell_type": "code",
   "execution_count": 25,
   "id": "4f6f3142-43fd-4a8d-be70-80e93531b200",
   "metadata": {
    "colab": {
     "base_uri": "https://localhost:8080/",
     "height": 1000,
     "referenced_widgets": [
      "dd0e568c10fd4f7a94f18271bbe52ecb",
      "7056eb5836854acaba7445df925d64ae",
      "cd0a5a4213114fcea38426929d7e279d",
      "e1b9106a6a724ddf8b6aebe1fcfc287a",
      "902913716dd0469d9751fe8c7ae1e907",
      "28e470362ca94567b5a4203636958216",
      "09f0140349df427ab96a19efcb2356a8",
      "8c370fd9a385446fa5b9a04dd45c0708",
      "649cb6f6e15e43ca9c8a6fdc9c411b5e",
      "ff9f5fcb8a4e44bc9c32024344dd52dd",
      "d9f7a98f2cc24156a9a128c2c5bc9de1"
     ]
    },
    "id": "4f6f3142-43fd-4a8d-be70-80e93531b200",
    "outputId": "a75294f6-8c62-4ba6-eef5-fb6540282b25"
   },
   "outputs": [
    {
     "data": {
      "application/vnd.jupyter.widget-view+json": {
       "model_id": "dd0e568c10fd4f7a94f18271bbe52ecb",
       "version_major": 2,
       "version_minor": 0
      },
      "text/plain": [
       "model.safetensors:   0%|          | 0.00/440M [00:00<?, ?B/s]"
      ]
     },
     "metadata": {},
     "output_type": "display_data"
    },
    {
     "name": "stderr",
     "output_type": "stream",
     "text": [
      "Some weights of BertForSequenceClassification were not initialized from the model checkpoint at bert-base-uncased and are newly initialized: ['classifier.bias', 'classifier.weight']\n",
      "You should probably TRAIN this model on a down-stream task to be able to use it for predictions and inference.\n"
     ]
    },
    {
     "name": "stdout",
     "output_type": "stream",
     "text": [
      "Epoch 1/10\n",
      "Training Loss: 0.7334, Validation Loss: 0.7177, Validation Accuracy: 0.4828\n",
      "Epoch 2/10\n",
      "Training Loss: 0.7161, Validation Loss: 0.7370, Validation Accuracy: 0.4828\n",
      "Epoch 3/10\n",
      "Training Loss: 0.7052, Validation Loss: 0.6990, Validation Accuracy: 0.5172\n",
      "Epoch 4/10\n",
      "Training Loss: 0.7030, Validation Loss: 0.6961, Validation Accuracy: 0.4828\n",
      "Epoch 5/10\n",
      "Training Loss: 0.7009, Validation Loss: 0.6988, Validation Accuracy: 0.5172\n",
      "Epoch 6/10\n",
      "Training Loss: 0.6994, Validation Loss: 0.6927, Validation Accuracy: 0.5172\n",
      "Epoch 7/10\n",
      "Training Loss: 0.6988, Validation Loss: 0.7091, Validation Accuracy: 0.4828\n",
      "Epoch 8/10\n",
      "Training Loss: 0.6994, Validation Loss: 0.6926, Validation Accuracy: 0.5172\n",
      "Epoch 9/10\n",
      "Training Loss: 0.6966, Validation Loss: 0.6926, Validation Accuracy: 0.5172\n",
      "Epoch 10/10\n",
      "Training Loss: 0.6964, Validation Loss: 0.6959, Validation Accuracy: 0.4828\n"
     ]
    },
    {
     "name": "stderr",
     "output_type": "stream",
     "text": [
      "Some weights of BertForSequenceClassification were not initialized from the model checkpoint at bert-base-uncased and are newly initialized: ['classifier.bias', 'classifier.weight']\n",
      "You should probably TRAIN this model on a down-stream task to be able to use it for predictions and inference.\n"
     ]
    },
    {
     "name": "stdout",
     "output_type": "stream",
     "text": [
      "Epoch 1/10\n",
      "Training Loss: 0.4512, Validation Loss: 0.2727, Validation Accuracy: 0.8953\n",
      "Epoch 2/10\n",
      "Training Loss: 0.1396, Validation Loss: 0.2313, Validation Accuracy: 0.9109\n",
      "Epoch 3/10\n",
      "Training Loss: 0.0810, Validation Loss: 0.3261, Validation Accuracy: 0.9016\n",
      "Epoch 4/10\n",
      "Training Loss: 0.0507, Validation Loss: 0.2607, Validation Accuracy: 0.9094\n",
      "Epoch 5/10\n",
      "Training Loss: 0.0528, Validation Loss: 0.4889, Validation Accuracy: 0.8969\n",
      "Epoch 6/10\n",
      "Training Loss: 0.0299, Validation Loss: 0.5260, Validation Accuracy: 0.8984\n",
      "Epoch 7/10\n",
      "Training Loss: 0.0283, Validation Loss: 0.3528, Validation Accuracy: 0.9094\n",
      "Epoch 8/10\n",
      "Training Loss: 0.0151, Validation Loss: 0.3311, Validation Accuracy: 0.9141\n",
      "Epoch 9/10\n",
      "Training Loss: 0.0146, Validation Loss: 0.3491, Validation Accuracy: 0.9078\n",
      "Epoch 10/10\n",
      "Training Loss: 0.0042, Validation Loss: 0.4527, Validation Accuracy: 0.9297\n"
     ]
    },
    {
     "name": "stderr",
     "output_type": "stream",
     "text": [
      "Some weights of BertForSequenceClassification were not initialized from the model checkpoint at bert-base-uncased and are newly initialized: ['classifier.bias', 'classifier.weight']\n",
      "You should probably TRAIN this model on a down-stream task to be able to use it for predictions and inference.\n"
     ]
    },
    {
     "name": "stdout",
     "output_type": "stream",
     "text": [
      "Epoch 1/10\n",
      "Training Loss: 0.5936, Validation Loss: 0.4388, Validation Accuracy: 0.8250\n",
      "Epoch 2/10\n",
      "Training Loss: 0.3241, Validation Loss: 0.2783, Validation Accuracy: 0.8859\n",
      "Epoch 3/10\n",
      "Training Loss: 0.1762, Validation Loss: 0.2298, Validation Accuracy: 0.9109\n",
      "Epoch 4/10\n",
      "Training Loss: 0.1024, Validation Loss: 0.2289, Validation Accuracy: 0.9203\n",
      "Epoch 5/10\n",
      "Training Loss: 0.0645, Validation Loss: 0.2260, Validation Accuracy: 0.9266\n",
      "Epoch 6/10\n",
      "Training Loss: 0.0363, Validation Loss: 0.2213, Validation Accuracy: 0.9375\n",
      "Epoch 7/10\n",
      "Training Loss: 0.0234, Validation Loss: 0.2533, Validation Accuracy: 0.9375\n",
      "Epoch 8/10\n",
      "Training Loss: 0.0200, Validation Loss: 0.2621, Validation Accuracy: 0.9328\n",
      "Epoch 9/10\n",
      "Training Loss: 0.0195, Validation Loss: 0.2227, Validation Accuracy: 0.9422\n",
      "Epoch 10/10\n",
      "Training Loss: 0.0097, Validation Loss: 0.2807, Validation Accuracy: 0.9297\n"
     ]
    },
    {
     "name": "stderr",
     "output_type": "stream",
     "text": [
      "Some weights of BertForSequenceClassification were not initialized from the model checkpoint at bert-base-uncased and are newly initialized: ['classifier.bias', 'classifier.weight']\n",
      "You should probably TRAIN this model on a down-stream task to be able to use it for predictions and inference.\n"
     ]
    },
    {
     "name": "stdout",
     "output_type": "stream",
     "text": [
      "Epoch 1/10\n",
      "Training Loss: 0.7123, Validation Loss: 0.6832, Validation Accuracy: 0.5531\n",
      "Epoch 2/10\n",
      "Training Loss: 0.6759, Validation Loss: 0.6557, Validation Accuracy: 0.6406\n",
      "Epoch 3/10\n",
      "Training Loss: 0.6317, Validation Loss: 0.6174, Validation Accuracy: 0.6719\n",
      "Epoch 4/10\n",
      "Training Loss: 0.5960, Validation Loss: 0.5816, Validation Accuracy: 0.6922\n",
      "Epoch 5/10\n",
      "Training Loss: 0.5533, Validation Loss: 0.5308, Validation Accuracy: 0.7641\n",
      "Epoch 6/10\n",
      "Training Loss: 0.5047, Validation Loss: 0.4899, Validation Accuracy: 0.7969\n",
      "Epoch 7/10\n",
      "Training Loss: 0.4517, Validation Loss: 0.4597, Validation Accuracy: 0.8125\n",
      "Epoch 8/10\n",
      "Training Loss: 0.4231, Validation Loss: 0.4266, Validation Accuracy: 0.8219\n",
      "Epoch 9/10\n",
      "Training Loss: 0.3789, Validation Loss: 0.3985, Validation Accuracy: 0.8297\n",
      "Epoch 10/10\n",
      "Training Loss: 0.3465, Validation Loss: 0.3698, Validation Accuracy: 0.8531\n"
     ]
    }
   ],
   "source": [
    "#defining sone hyperparameters\n",
    "EPOCHS = 10\n",
    "ALPHAS = [1e-3,1e-4,1e-5,1e-6]\n",
    "VAL_SAMPLES = len(test_df)\n",
    "\n",
    "#training the model for different learning rates\n",
    "sen_losses = []\n",
    "sen_accuracies = []\n",
    "for alpha in ALPHAS:\n",
    "    binary_model = BertForSequenceClassification.from_pretrained('bert-base-uncased', num_labels=2)\n",
    "    binary_model.to(device)\n",
    "    loss, accuracy = train(binary_model, train_dataloader, val_dataloader, EPOCHS, alpha, device)\n",
    "    sen_losses.append(loss)\n",
    "    sen_accuracies.append(accuracy)"
   ]
  },
  {
   "cell_type": "code",
   "execution_count": 26,
   "id": "Xi5VpM5Cgjjh",
   "metadata": {
    "colab": {
     "base_uri": "https://localhost:8080/",
     "height": 487
    },
    "id": "Xi5VpM5Cgjjh",
    "outputId": "32e7d2c4-778f-4fd8-8cb0-5de7ac21c21d"
   },
   "outputs": [
    {
     "data": {
      "image/png": "[encoded data removed]",
      "text/plain": [
       "<Figure size 1000x500 with 1 Axes>"
      ]
     },
     "metadata": {},
     "output_type": "display_data"
    }
   ],
   "source": [
    "#Ploting loss\n",
    "plt.figure(figsize=(10, 5))\n",
    "for alpha, loss in zip(ALPHAS, sen_losses):\n",
    "    plt.plot(range(1, EPOCHS + 1), loss, label=f'Alpha={alpha}')\n",
    "plt.xlabel('Epoch')\n",
    "plt.ylabel('Loss')\n",
    "plt.title('Training Loss for Different Learning Rates')\n",
    "plt.legend()\n",
    "plt.grid(True)\n",
    "plt.savefig('loss anlysis - sentence.png', bbox_inches='tight')\n",
    "plt.show()"
   ]
  },
  {
   "cell_type": "code",
   "execution_count": 27,
   "id": "jfcSrjF4go3g",
   "metadata": {
    "colab": {
     "base_uri": "https://localhost:8080/",
     "height": 487
    },
    "id": "jfcSrjF4go3g",
    "outputId": "233c9939-7dc1-4edc-f570-41e0fa5f4cbf"
   },
   "outputs": [
    {
     "data": {
      "image/png": "[encoded data removed]",
      "text/plain": [
       "<Figure size 1000x500 with 1 Axes>"
      ]
     },
     "metadata": {},
     "output_type": "display_data"
    }
   ],
   "source": [
    "# Ploting accuracy\n",
    "plt.figure(figsize=(10, 5))\n",
    "for alpha, accuracy in zip(ALPHAS, sen_accuracies):\n",
    "    plt.plot(range(1, EPOCHS + 1), accuracy, label=f'Alpha={alpha}')\n",
    "plt.xlabel('Epoch')\n",
    "plt.ylabel('Accuracy')\n",
    "plt.title('Training Accuracy for Different Learning Rates')\n",
    "plt.legend()\n",
    "plt.grid(True)\n",
    "plt.savefig('score anlysis - sentence.png', bbox_inches='tight')\n",
    "plt.show()"
   ]
  },
  {
   "cell_type": "code",
   "execution_count": 39,
   "id": "2-6REnqWlynB",
   "metadata": {
    "id": "2-6REnqWlynB"
   },
   "outputs": [],
   "source": [
    "#loading the best model for binary clasiification\n",
    "binary_model.load_state_dict(torch.load(f'best_model_{1e-5}.pt'))"
   ]
  },
  {
   "cell_type": "code",
   "execution_count": 30,
   "id": "Ptlp1zOBi5kS",
   "metadata": {
    "colab": {
     "base_uri": "https://localhost:8080/"
    },
    "id": "Ptlp1zOBi5kS",
    "outputId": "25f3ec9a-8f70-4b77-ab7f-da0ec89068d1"
   },
   "outputs": [
    {
     "name": "stdout",
     "output_type": "stream",
     "text": [
      "Test accuracy:  0.942\n"
     ]
    }
   ],
   "source": [
    "#testing the model with best performance\n",
    "def evaluate(model,test_dataloader):\n",
    "    model.eval()\n",
    "    val_loss = 0\n",
    "    val_accuracy = 0\n",
    "    total_acc_test = 0\n",
    "    with torch.no_grad():\n",
    "        predictions=[]\n",
    "        for batch in test_dataloader:\n",
    "            batch = tuple(t.to(device) for t in batch)  #moving the batch tensors to the specified device (CPU or GPU)\n",
    "            input_ids, attention_mask, labels = batch  #unpacking the batch tensors\n",
    "            outputs = model(input_ids, attention_mask=attention_mask, labels=labels)\n",
    "            loss = outputs.loss\n",
    "            logits = outputs.logits  # Access the logits attribute\n",
    "            preds = torch.argmax(logits, dim=1).flatten()  # Compute argmax on logits\n",
    "            predictions.append(preds)\n",
    "            total_acc_test+= torch.sum(preds == labels).item()\n",
    "\n",
    "    print(f'Test accuracy: {total_acc_test/VAL_SAMPLES: .3f}')\n",
    "    return predictions\n",
    "\n",
    "predictions = evaluate(binary_model,val_dataloader)"
   ]
  },
  {
   "cell_type": "code",
   "execution_count": 32,
   "id": "DnINTEhLm_1I",
   "metadata": {
    "colab": {
     "base_uri": "https://localhost:8080/"
    },
    "id": "DnINTEhLm_1I",
    "outputId": "2d5be833-e9ff-4750-e928-d312c8d3cb82"
   },
   "outputs": [
    {
     "name": "stdout",
     "output_type": "stream",
     "text": [
      "              precision    recall  f1-score   support\n",
      "\n",
      "           0       0.93      0.95      0.94       331\n",
      "           1       0.95      0.93      0.94       309\n",
      "\n",
      "    accuracy                           0.94       640\n",
      "   macro avg       0.94      0.94      0.94       640\n",
      "weighted avg       0.94      0.94      0.94       640\n",
      "\n"
     ]
    }
   ],
   "source": [
    "#generating the classification report\n",
    "pred_labels = []\n",
    "for batch in predictions:\n",
    "    for pred in batch:\n",
    "        pred_labels.append(pred.item())\n",
    "\n",
    "test_df['BERTsentence_Prediction'] = pred_labels\n",
    "\n",
    "print(classification_report(test_df['binary_label'], test_df['BERTsentence_Prediction']))"
   ]
  },
  {
   "cell_type": "markdown",
   "id": "9bbf4ea3-b6b5-42cb-b1a2-b980cbc1474e",
   "metadata": {
    "id": "9bbf4ea3-b6b5-42cb-b1a2-b980cbc1474e"
   },
   "source": [
    "### BERT for Snippet"
   ]
  },
  {
   "cell_type": "code",
   "execution_count": 33,
   "id": "c0241a98-8b20-4b47-9cb0-77079adf6b92",
   "metadata": {
    "id": "c0241a98-8b20-4b47-9cb0-77079adf6b92"
   },
   "outputs": [],
   "source": [
    "#preparing the feature and label for BERT model\n",
    "feature = 'snippet'\n",
    "label = 'multiclass_label'\n",
    "snippet_train_dataloader, snippet_val_dataloader = create_dataloaders(feature, label, batch_size)"
   ]
  },
  {
   "cell_type": "code",
   "execution_count": 34,
   "id": "eaa70a9c-0d38-48ec-bcfc-13d3bcbaf110",
   "metadata": {
    "colab": {
     "base_uri": "https://localhost:8080/"
    },
    "id": "eaa70a9c-0d38-48ec-bcfc-13d3bcbaf110",
    "outputId": "82d74f6c-18ee-499c-ea7a-8aaf0824cc19"
   },
   "outputs": [
    {
     "name": "stderr",
     "output_type": "stream",
     "text": [
      "Some weights of BertForSequenceClassification were not initialized from the model checkpoint at bert-base-uncased and are newly initialized: ['classifier.bias', 'classifier.weight']\n",
      "You should probably TRAIN this model on a down-stream task to be able to use it for predictions and inference.\n"
     ]
    },
    {
     "name": "stdout",
     "output_type": "stream",
     "text": [
      "Epoch 1/10\n",
      "Training Loss: 1.8532, Validation Loss: 1.7125, Validation Accuracy: 0.5172\n",
      "Epoch 2/10\n",
      "Training Loss: 1.7751, Validation Loss: 1.8053, Validation Accuracy: 0.5172\n",
      "Epoch 3/10\n",
      "Training Loss: 1.7730, Validation Loss: 1.7124, Validation Accuracy: 0.5172\n",
      "Epoch 4/10\n",
      "Training Loss: 1.7711, Validation Loss: 1.7045, Validation Accuracy: 0.5172\n",
      "Epoch 5/10\n",
      "Training Loss: 1.7585, Validation Loss: 1.8112, Validation Accuracy: 0.5172\n",
      "Epoch 6/10\n",
      "Training Loss: 1.7459, Validation Loss: 1.8176, Validation Accuracy: 0.5172\n",
      "Epoch 7/10\n",
      "Training Loss: 1.7320, Validation Loss: 1.7372, Validation Accuracy: 0.5172\n",
      "Epoch 8/10\n",
      "Training Loss: 1.7316, Validation Loss: 1.9181, Validation Accuracy: 0.5172\n",
      "Epoch 9/10\n",
      "Training Loss: 1.7351, Validation Loss: 1.7226, Validation Accuracy: 0.5172\n",
      "Epoch 10/10\n",
      "Training Loss: 1.7189, Validation Loss: 1.8114, Validation Accuracy: 0.5172\n"
     ]
    },
    {
     "name": "stderr",
     "output_type": "stream",
     "text": [
      "Some weights of BertForSequenceClassification were not initialized from the model checkpoint at bert-base-uncased and are newly initialized: ['classifier.bias', 'classifier.weight']\n",
      "You should probably TRAIN this model on a down-stream task to be able to use it for predictions and inference.\n"
     ]
    },
    {
     "name": "stdout",
     "output_type": "stream",
     "text": [
      "Epoch 1/10\n",
      "Training Loss: 1.3630, Validation Loss: 0.9748, Validation Accuracy: 0.6859\n",
      "Epoch 2/10\n",
      "Training Loss: 0.7512, Validation Loss: 0.8980, Validation Accuracy: 0.7078\n",
      "Epoch 3/10\n",
      "Training Loss: 0.4133, Validation Loss: 0.9269, Validation Accuracy: 0.7250\n",
      "Epoch 4/10\n",
      "Training Loss: 0.2252, Validation Loss: 1.0697, Validation Accuracy: 0.7203\n",
      "Epoch 5/10\n",
      "Training Loss: 0.1491, Validation Loss: 1.1679, Validation Accuracy: 0.7156\n",
      "Epoch 6/10\n",
      "Training Loss: 0.1010, Validation Loss: 1.2353, Validation Accuracy: 0.7250\n",
      "Epoch 7/10\n",
      "Training Loss: 0.0998, Validation Loss: 1.1917, Validation Accuracy: 0.7312\n",
      "Epoch 8/10\n",
      "Training Loss: 0.0807, Validation Loss: 1.2065, Validation Accuracy: 0.7391\n",
      "Epoch 9/10\n",
      "Training Loss: 0.0618, Validation Loss: 1.2894, Validation Accuracy: 0.7359\n",
      "Epoch 10/10\n",
      "Training Loss: 0.0763, Validation Loss: 1.2549, Validation Accuracy: 0.7328\n"
     ]
    },
    {
     "name": "stderr",
     "output_type": "stream",
     "text": [
      "Some weights of BertForSequenceClassification were not initialized from the model checkpoint at bert-base-uncased and are newly initialized: ['classifier.bias', 'classifier.weight']\n",
      "You should probably TRAIN this model on a down-stream task to be able to use it for predictions and inference.\n"
     ]
    },
    {
     "name": "stdout",
     "output_type": "stream",
     "text": [
      "Epoch 1/10\n",
      "Training Loss: 1.7439, Validation Loss: 1.4784, Validation Accuracy: 0.5172\n",
      "Epoch 2/10\n",
      "Training Loss: 1.3738, Validation Loss: 1.2035, Validation Accuracy: 0.5859\n",
      "Epoch 3/10\n",
      "Training Loss: 1.1335, Validation Loss: 1.0686, Validation Accuracy: 0.6500\n",
      "Epoch 4/10\n",
      "Training Loss: 0.9399, Validation Loss: 0.9884, Validation Accuracy: 0.6797\n",
      "Epoch 5/10\n",
      "Training Loss: 0.7652, Validation Loss: 0.9376, Validation Accuracy: 0.6953\n",
      "Epoch 6/10\n",
      "Training Loss: 0.6160, Validation Loss: 0.8776, Validation Accuracy: 0.7109\n",
      "Epoch 7/10\n",
      "Training Loss: 0.4925, Validation Loss: 0.8663, Validation Accuracy: 0.7328\n",
      "Epoch 8/10\n",
      "Training Loss: 0.3782, Validation Loss: 0.8629, Validation Accuracy: 0.7438\n",
      "Epoch 9/10\n",
      "Training Loss: 0.3038, Validation Loss: 0.8523, Validation Accuracy: 0.7328\n",
      "Epoch 10/10\n",
      "Training Loss: 0.2280, Validation Loss: 0.8799, Validation Accuracy: 0.7422\n"
     ]
    },
    {
     "name": "stderr",
     "output_type": "stream",
     "text": [
      "Some weights of BertForSequenceClassification were not initialized from the model checkpoint at bert-base-uncased and are newly initialized: ['classifier.bias', 'classifier.weight']\n",
      "You should probably TRAIN this model on a down-stream task to be able to use it for predictions and inference.\n"
     ]
    },
    {
     "name": "stdout",
     "output_type": "stream",
     "text": [
      "Epoch 1/10\n",
      "Training Loss: 2.1400, Validation Loss: 1.9439, Validation Accuracy: 0.4875\n",
      "Epoch 2/10\n",
      "Training Loss: 1.8786, Validation Loss: 1.7829, Validation Accuracy: 0.5125\n",
      "Epoch 3/10\n",
      "Training Loss: 1.7776, Validation Loss: 1.7036, Validation Accuracy: 0.5141\n",
      "Epoch 4/10\n",
      "Training Loss: 1.7105, Validation Loss: 1.6450, Validation Accuracy: 0.5156\n",
      "Epoch 5/10\n",
      "Training Loss: 1.6640, Validation Loss: 1.5960, Validation Accuracy: 0.5156\n",
      "Epoch 6/10\n",
      "Training Loss: 1.6254, Validation Loss: 1.5476, Validation Accuracy: 0.5156\n",
      "Epoch 7/10\n",
      "Training Loss: 1.5741, Validation Loss: 1.5015, Validation Accuracy: 0.5156\n",
      "Epoch 8/10\n",
      "Training Loss: 1.5236, Validation Loss: 1.4601, Validation Accuracy: 0.5203\n",
      "Epoch 9/10\n",
      "Training Loss: 1.4807, Validation Loss: 1.4247, Validation Accuracy: 0.5219\n",
      "Epoch 10/10\n",
      "Training Loss: 1.4406, Validation Loss: 1.3872, Validation Accuracy: 0.5297\n"
     ]
    }
   ],
   "source": [
    "#defining hyperparameters\n",
    "EPOCHS = 10\n",
    "ALPHAS = [1e-3,1e-4,1e-5,1e-6]\n",
    "VAL_SMAPLES = len(test_df)\n",
    "\n",
    "#training the model for different learning rates\n",
    "snippet_losses = []\n",
    "snippet_accuracies = []\n",
    "for alpha in ALPHAS:\n",
    "    snippet_model = BertForSequenceClassification.from_pretrained('bert-base-uncased', num_labels=9)\n",
    "    snippet_model.to(device)\n",
    "    loss, accuracy = train(snippet_model, snippet_train_dataloader, snippet_val_dataloader, EPOCHS, alpha, device)\n",
    "    snippet_losses.append(loss)\n",
    "    snippet_accuracies.append(accuracy)"
   ]
  },
  {
   "cell_type": "code",
   "execution_count": 35,
   "id": "9E88JuSXrZVX",
   "metadata": {
    "colab": {
     "base_uri": "https://localhost:8080/",
     "height": 487
    },
    "id": "9E88JuSXrZVX",
    "outputId": "1889a62f-56e1-4469-b1dc-77d1bf7db2ce"
   },
   "outputs": [
    {
     "data": {
      "image/png": "[encoded data removed]",
      "text/plain": [
       "<Figure size 1000x500 with 1 Axes>"
      ]
     },
     "metadata": {},
     "output_type": "display_data"
    }
   ],
   "source": [
    "#Ploting loss\n",
    "plt.figure(figsize=(10, 5))\n",
    "for alpha, loss in zip(ALPHAS, snippet_losses):\n",
    "    plt.plot(range(1, EPOCHS + 1), loss, label=f'Alpha={alpha}')\n",
    "plt.xlabel('Epoch')\n",
    "plt.ylabel('Loss')\n",
    "plt.title('Validation Loss for Different Learning Rates')\n",
    "plt.legend()\n",
    "plt.grid(True)\n",
    "plt.savefig('loss anlysis - snippet.png', bbox_inches='tight')\n",
    "plt.show()"
   ]
  },
  {
   "cell_type": "code",
   "execution_count": 36,
   "id": "moFBMXWYrl0t",
   "metadata": {
    "colab": {
     "base_uri": "https://localhost:8080/",
     "height": 487
    },
    "id": "moFBMXWYrl0t",
    "outputId": "a63887da-74b5-4371-fdcc-617c94fbd188"
   },
   "outputs": [
    {
     "data": {
      "image/png": "[encoded data removed]",
      "text/plain": [
       "<Figure size 1000x500 with 1 Axes>"
      ]
     },
     "metadata": {},
     "output_type": "display_data"
    }
   ],
   "source": [
    "# Ploting accuracy\n",
    "plt.figure(figsize=(10, 5))\n",
    "for alpha, accuracy in zip(ALPHAS, snippet_accuracies):\n",
    "    plt.plot(range(1, EPOCHS + 1), accuracy, label=f'Alpha={alpha}')\n",
    "plt.xlabel('Epoch')\n",
    "plt.ylabel('Accuracy')\n",
    "plt.title('Validation Accuracy for Different Learning Rates')\n",
    "plt.legend()\n",
    "plt.grid(True)\n",
    "plt.savefig('score anlysis - snippet.png', bbox_inches='tight')\n",
    "plt.show()"
   ]
  },
  {
   "cell_type": "code",
   "execution_count": 37,
   "id": "1_1i8DGU7Pwv",
   "metadata": {
    "colab": {
     "base_uri": "https://localhost:8080/"
    },
    "id": "1_1i8DGU7Pwv",
    "outputId": "9af0f3e2-f086-432d-f509-04f3599ed044"
   },
   "outputs": [
    {
     "data": {
      "text/plain": [
       "<All keys matched successfully>"
      ]
     },
     "execution_count": 37,
     "metadata": {},
     "output_type": "execute_result"
    }
   ],
   "source": [
    "#loading the best snippet classifier model\n",
    "snippet_model.load_state_dict(torch.load(f'best_model_{1e-5}.pt'))"
   ]
  },
  {
   "cell_type": "code",
   "execution_count": 38,
   "id": "LkZTY3ARrAuu",
   "metadata": {
    "colab": {
     "base_uri": "https://localhost:8080/"
    },
    "id": "LkZTY3ARrAuu",
    "outputId": "2306f662-00b3-4e9b-98b6-902a5fe88257"
   },
   "outputs": [
    {
     "name": "stdout",
     "output_type": "stream",
     "text": [
      "Test accuracy:  0.744\n",
      "              precision    recall  f1-score   support\n",
      "\n",
      "           0       0.59      0.60      0.60        43\n",
      "           1       0.54      0.74      0.63        35\n",
      "           2       0.59      0.51      0.55        43\n",
      "           3       0.58      0.50      0.54        30\n",
      "           4       0.74      0.62      0.67        45\n",
      "           5       0.65      0.62      0.63        39\n",
      "           6       0.71      0.59      0.65        34\n",
      "           7       0.88      0.90      0.89       331\n",
      "           8       0.39      0.45      0.42        40\n",
      "\n",
      "    accuracy                           0.74       640\n",
      "   macro avg       0.63      0.61      0.62       640\n",
      "weighted avg       0.75      0.74      0.74       640\n",
      "\n"
     ]
    }
   ],
   "source": [
    "#getting the classification report\n",
    "snippet_predictions = evaluate(snippet_model,snippet_val_dataloader)\n",
    "\n",
    "pred_labels = []\n",
    "for batch in snippet_predictions:\n",
    "    for pred in batch:\n",
    "        pred_labels.append(pred.item())\n",
    "\n",
    "test_df['BERTsnippet_Prediction'] = pred_labels\n",
    "print(classification_report(test_df['multiclass_label'], test_df['BERTsnippet_Prediction']))"
   ]
  }
 ],
 "metadata": {
  "accelerator": "GPU",
  "colab": {
   "gpuType": "T4",
   "provenance": []
  },
  "kernelspec": {
   "display_name": "Python 3 (ipykernel)",
   "language": "python",
   "name": "python3"
  },
  "language_info": {
   "codemirror_mode": {
    "name": "ipython",
    "version": 3
   },
   "file_extension": ".py",
   "mimetype": "text/x-python",
   "name": "python",
   "nbconvert_exporter": "python",
   "pygments_lexer": "ipython3",
   "version": "3.9.13"
  },
  "widgets": {
   "application/vnd.jupyter.widget-state+json": {
    "01a798a293f14f2e82cb2eab84cf658e": {
     "model_module": "@jupyter-widgets/controls",
     "model_module_version": "1.5.0",
     "model_name": "DescriptionStyleModel",
     "state": {
      "_model_module": "@jupyter-widgets/controls",
      "_model_module_version": "1.5.0",
      "_model_name": "DescriptionStyleModel",
      "_view_count": null,
      "_view_module": "@jupyter-widgets/base",
      "_view_module_version": "1.2.0",
      "_view_name": "StyleView",
      "description_width": ""
     }
    },
    "05215b91a6c044b5b4b8a6f88d955a69": {
     "model_module": "@jupyter-widgets/base",
     "model_module_version": "1.2.0",
     "model_name": "LayoutModel",
     "state": {
      "_model_module": "@jupyter-widgets/base",
      "_model_module_version": "1.2.0",
      "_model_name": "LayoutModel",
      "_view_count": null,
      "_view_module": "@jupyter-widgets/base",
      "_view_module_version": "1.2.0",
      "_view_name": "LayoutView",
      "align_content": null,
      "align_items": null,
      "align_self": null,
      "border": null,
      "bottom": null,
      "display": null,
      "flex": null,
      "flex_flow": null,
      "grid_area": null,
      "grid_auto_columns": null,
      "grid_auto_flow": null,
      "grid_auto_rows": null,
      "grid_column": null,
      "grid_gap": null,
      "grid_row": null,
      "grid_template_areas": null,
      "grid_template_columns": null,
      "grid_template_rows": null,
      "height": null,
      "justify_content": null,
      "justify_items": null,
      "left": null,
      "margin": null,
      "max_height": null,
      "max_width": null,
      "min_height": null,
      "min_width": null,
      "object_fit": null,
      "object_position": null,
      "order": null,
      "overflow": null,
      "overflow_x": null,
      "overflow_y": null,
      "padding": null,
      "right": null,
      "top": null,
      "visibility": null,
      "width": null
     }
    },
    "085d2d497ff24ecb9ec2cb67bfb7b01a": {
     "model_module": "@jupyter-widgets/controls",
     "model_module_version": "1.5.0",
     "model_name": "HTMLModel",
     "state": {
      "_dom_classes": [],
      "_model_module": "@jupyter-widgets/controls",
      "_model_module_version": "1.5.0",
      "_model_name": "HTMLModel",
      "_view_count": null,
      "_view_module": "@jupyter-widgets/controls",
      "_view_module_version": "1.5.0",
      "_view_name": "HTMLView",
      "description": "",
      "description_tooltip": null,
      "layout": "IPY_MODEL_1e83118457174e35b3c6f61575e34fe9",
      "placeholder": "​",
      "style": "IPY_MODEL_309cf79ca4014678830ec3ac85c6a246",
      "value": "config.json: 100%"
     }
    },
    "08e272b5b2c24bbf833abe718dbbf00b": {
     "model_module": "@jupyter-widgets/controls",
     "model_module_version": "1.5.0",
     "model_name": "DescriptionStyleModel",
     "state": {
      "_model_module": "@jupyter-widgets/controls",
      "_model_module_version": "1.5.0",
      "_model_name": "DescriptionStyleModel",
      "_view_count": null,
      "_view_module": "@jupyter-widgets/base",
      "_view_module_version": "1.2.0",
      "_view_name": "StyleView",
      "description_width": ""
     }
    },
    "09f0140349df427ab96a19efcb2356a8": {
     "model_module": "@jupyter-widgets/controls",
     "model_module_version": "1.5.0",
     "model_name": "DescriptionStyleModel",
     "state": {
      "_model_module": "@jupyter-widgets/controls",
      "_model_module_version": "1.5.0",
      "_model_name": "DescriptionStyleModel",
      "_view_count": null,
      "_view_module": "@jupyter-widgets/base",
      "_view_module_version": "1.2.0",
      "_view_name": "StyleView",
      "description_width": ""
     }
    },
    "1656496251f04325afb848ec5742dc13": {
     "model_module": "@jupyter-widgets/controls",
     "model_module_version": "1.5.0",
     "model_name": "HBoxModel",
     "state": {
      "_dom_classes": [],
      "_model_module": "@jupyter-widgets/controls",
      "_model_module_version": "1.5.0",
      "_model_name": "HBoxModel",
      "_view_count": null,
      "_view_module": "@jupyter-widgets/controls",
      "_view_module_version": "1.5.0",
      "_view_name": "HBoxView",
      "box_style": "",
      "children": [
       "IPY_MODEL_085d2d497ff24ecb9ec2cb67bfb7b01a",
       "IPY_MODEL_cb7e76935e85456fabfb83004f161c47",
       "IPY_MODEL_465954139b8049b9812e18bae7ae31fe"
      ],
      "layout": "IPY_MODEL_f3f7968688ee4e458995a38ea0cfda58"
     }
    },
    "189d4997872447508474af2e5213f61a": {
     "model_module": "@jupyter-widgets/base",
     "model_module_version": "1.2.0",
     "model_name": "LayoutModel",
     "state": {
      "_model_module": "@jupyter-widgets/base",
      "_model_module_version": "1.2.0",
      "_model_name": "LayoutModel",
      "_view_count": null,
      "_view_module": "@jupyter-widgets/base",
      "_view_module_version": "1.2.0",
      "_view_name": "LayoutView",
      "align_content": null,
      "align_items": null,
      "align_self": null,
      "border": null,
      "bottom": null,
      "display": null,
      "flex": null,
      "flex_flow": null,
      "grid_area": null,
      "grid_auto_columns": null,
      "grid_auto_flow": null,
      "grid_auto_rows": null,
      "grid_column": null,
      "grid_gap": null,
      "grid_row": null,
      "grid_template_areas": null,
      "grid_template_columns": null,
      "grid_template_rows": null,
      "height": null,
      "justify_content": null,
      "justify_items": null,
      "left": null,
      "margin": null,
      "max_height": null,
      "max_width": null,
      "min_height": null,
      "min_width": null,
      "object_fit": null,
      "object_position": null,
      "order": null,
      "overflow": null,
      "overflow_x": null,
      "overflow_y": null,
      "padding": null,
      "right": null,
      "top": null,
      "visibility": null,
      "width": null
     }
    },
    "1c1b37bd02484bdcb6cc8e7180ed6cd5": {
     "model_module": "@jupyter-widgets/controls",
     "model_module_version": "1.5.0",
     "model_name": "HTMLModel",
     "state": {
      "_dom_classes": [],
      "_model_module": "@jupyter-widgets/controls",
      "_model_module_version": "1.5.0",
      "_model_name": "HTMLModel",
      "_view_count": null,
      "_view_module": "@jupyter-widgets/controls",
      "_view_module_version": "1.5.0",
      "_view_name": "HTMLView",
      "description": "",
      "description_tooltip": null,
      "layout": "IPY_MODEL_3b4d017596f34d9982e43a4cc08a8125",
      "placeholder": "​",
      "style": "IPY_MODEL_a2bc334fc44d4bb9b02da68162566678",
      "value": "tokenizer_config.json: 100%"
     }
    },
    "1ca924fbb3234ef0b029a9c12887678f": {
     "model_module": "@jupyter-widgets/controls",
     "model_module_version": "1.5.0",
     "model_name": "DescriptionStyleModel",
     "state": {
      "_model_module": "@jupyter-widgets/controls",
      "_model_module_version": "1.5.0",
      "_model_name": "DescriptionStyleModel",
      "_view_count": null,
      "_view_module": "@jupyter-widgets/base",
      "_view_module_version": "1.2.0",
      "_view_name": "StyleView",
      "description_width": ""
     }
    },
    "1e83118457174e35b3c6f61575e34fe9": {
     "model_module": "@jupyter-widgets/base",
     "model_module_version": "1.2.0",
     "model_name": "LayoutModel",
     "state": {
      "_model_module": "@jupyter-widgets/base",
      "_model_module_version": "1.2.0",
      "_model_name": "LayoutModel",
      "_view_count": null,
      "_view_module": "@jupyter-widgets/base",
      "_view_module_version": "1.2.0",
      "_view_name": "LayoutView",
      "align_content": null,
      "align_items": null,
      "align_self": null,
      "border": null,
      "bottom": null,
      "display": null,
      "flex": null,
      "flex_flow": null,
      "grid_area": null,
      "grid_auto_columns": null,
      "grid_auto_flow": null,
      "grid_auto_rows": null,
      "grid_column": null,
      "grid_gap": null,
      "grid_row": null,
      "grid_template_areas": null,
      "grid_template_columns": null,
      "grid_template_rows": null,
      "height": null,
      "justify_content": null,
      "justify_items": null,
      "left": null,
      "margin": null,
      "max_height": null,
      "max_width": null,
      "min_height": null,
      "min_width": null,
      "object_fit": null,
      "object_position": null,
      "order": null,
      "overflow": null,
      "overflow_x": null,
      "overflow_y": null,
      "padding": null,
      "right": null,
      "top": null,
      "visibility": null,
      "width": null
     }
    },
    "28e470362ca94567b5a4203636958216": {
     "model_module": "@jupyter-widgets/base",
     "model_module_version": "1.2.0",
     "model_name": "LayoutModel",
     "state": {
      "_model_module": "@jupyter-widgets/base",
      "_model_module_version": "1.2.0",
      "_model_name": "LayoutModel",
      "_view_count": null,
      "_view_module": "@jupyter-widgets/base",
      "_view_module_version": "1.2.0",
      "_view_name": "LayoutView",
      "align_content": null,
      "align_items": null,
      "align_self": null,
      "border": null,
      "bottom": null,
      "display": null,
      "flex": null,
      "flex_flow": null,
      "grid_area": null,
      "grid_auto_columns": null,
      "grid_auto_flow": null,
      "grid_auto_rows": null,
      "grid_column": null,
      "grid_gap": null,
      "grid_row": null,
      "grid_template_areas": null,
      "grid_template_columns": null,
      "grid_template_rows": null,
      "height": null,
      "justify_content": null,
      "justify_items": null,
      "left": null,
      "margin": null,
      "max_height": null,
      "max_width": null,
      "min_height": null,
      "min_width": null,
      "object_fit": null,
      "object_position": null,
      "order": null,
      "overflow": null,
      "overflow_x": null,
      "overflow_y": null,
      "padding": null,
      "right": null,
      "top": null,
      "visibility": null,
      "width": null
     }
    },
    "293567c3227b408aadb6029bd4ac1ad7": {
     "model_module": "@jupyter-widgets/controls",
     "model_module_version": "1.5.0",
     "model_name": "ProgressStyleModel",
     "state": {
      "_model_module": "@jupyter-widgets/controls",
      "_model_module_version": "1.5.0",
      "_model_name": "ProgressStyleModel",
      "_view_count": null,
      "_view_module": "@jupyter-widgets/base",
      "_view_module_version": "1.2.0",
      "_view_name": "StyleView",
      "bar_color": null,
      "description_width": ""
     }
    },
    "29aaa6ed92d44817b06e1db11dfc9afb": {
     "model_module": "@jupyter-widgets/controls",
     "model_module_version": "1.5.0",
     "model_name": "ProgressStyleModel",
     "state": {
      "_model_module": "@jupyter-widgets/controls",
      "_model_module_version": "1.5.0",
      "_model_name": "ProgressStyleModel",
      "_view_count": null,
      "_view_module": "@jupyter-widgets/base",
      "_view_module_version": "1.2.0",
      "_view_name": "StyleView",
      "bar_color": null,
      "description_width": ""
     }
    },
    "309cf79ca4014678830ec3ac85c6a246": {
     "model_module": "@jupyter-widgets/controls",
     "model_module_version": "1.5.0",
     "model_name": "DescriptionStyleModel",
     "state": {
      "_model_module": "@jupyter-widgets/controls",
      "_model_module_version": "1.5.0",
      "_model_name": "DescriptionStyleModel",
      "_view_count": null,
      "_view_module": "@jupyter-widgets/base",
      "_view_module_version": "1.2.0",
      "_view_name": "StyleView",
      "description_width": ""
     }
    },
    "315ba37cbbc1418fafa45360f4b03ec7": {
     "model_module": "@jupyter-widgets/base",
     "model_module_version": "1.2.0",
     "model_name": "LayoutModel",
     "state": {
      "_model_module": "@jupyter-widgets/base",
      "_model_module_version": "1.2.0",
      "_model_name": "LayoutModel",
      "_view_count": null,
      "_view_module": "@jupyter-widgets/base",
      "_view_module_version": "1.2.0",
      "_view_name": "LayoutView",
      "align_content": null,
      "align_items": null,
      "align_self": null,
      "border": null,
      "bottom": null,
      "display": null,
      "flex": null,
      "flex_flow": null,
      "grid_area": null,
      "grid_auto_columns": null,
      "grid_auto_flow": null,
      "grid_auto_rows": null,
      "grid_column": null,
      "grid_gap": null,
      "grid_row": null,
      "grid_template_areas": null,
      "grid_template_columns": null,
      "grid_template_rows": null,
      "height": null,
      "justify_content": null,
      "justify_items": null,
      "left": null,
      "margin": null,
      "max_height": null,
      "max_width": null,
      "min_height": null,
      "min_width": null,
      "object_fit": null,
      "object_position": null,
      "order": null,
      "overflow": null,
      "overflow_x": null,
      "overflow_y": null,
      "padding": null,
      "right": null,
      "top": null,
      "visibility": null,
      "width": null
     }
    },
    "3213382ec7b1472f9cbeba636c962464": {
     "model_module": "@jupyter-widgets/base",
     "model_module_version": "1.2.0",
     "model_name": "LayoutModel",
     "state": {
      "_model_module": "@jupyter-widgets/base",
      "_model_module_version": "1.2.0",
      "_model_name": "LayoutModel",
      "_view_count": null,
      "_view_module": "@jupyter-widgets/base",
      "_view_module_version": "1.2.0",
      "_view_name": "LayoutView",
      "align_content": null,
      "align_items": null,
      "align_self": null,
      "border": null,
      "bottom": null,
      "display": null,
      "flex": null,
      "flex_flow": null,
      "grid_area": null,
      "grid_auto_columns": null,
      "grid_auto_flow": null,
      "grid_auto_rows": null,
      "grid_column": null,
      "grid_gap": null,
      "grid_row": null,
      "grid_template_areas": null,
      "grid_template_columns": null,
      "grid_template_rows": null,
      "height": null,
      "justify_content": null,
      "justify_items": null,
      "left": null,
      "margin": null,
      "max_height": null,
      "max_width": null,
      "min_height": null,
      "min_width": null,
      "object_fit": null,
      "object_position": null,
      "order": null,
      "overflow": null,
      "overflow_x": null,
      "overflow_y": null,
      "padding": null,
      "right": null,
      "top": null,
      "visibility": null,
      "width": null
     }
    },
    "32574cca06724303805b32030e3caac1": {
     "model_module": "@jupyter-widgets/controls",
     "model_module_version": "1.5.0",
     "model_name": "FloatProgressModel",
     "state": {
      "_dom_classes": [],
      "_model_module": "@jupyter-widgets/controls",
      "_model_module_version": "1.5.0",
      "_model_name": "FloatProgressModel",
      "_view_count": null,
      "_view_module": "@jupyter-widgets/controls",
      "_view_module_version": "1.5.0",
      "_view_name": "ProgressView",
      "bar_style": "success",
      "description": "",
      "description_tooltip": null,
      "layout": "IPY_MODEL_05215b91a6c044b5b4b8a6f88d955a69",
      "max": 48,
      "min": 0,
      "orientation": "horizontal",
      "style": "IPY_MODEL_293567c3227b408aadb6029bd4ac1ad7",
      "value": 48
     }
    },
    "3b4d017596f34d9982e43a4cc08a8125": {
     "model_module": "@jupyter-widgets/base",
     "model_module_version": "1.2.0",
     "model_name": "LayoutModel",
     "state": {
      "_model_module": "@jupyter-widgets/base",
      "_model_module_version": "1.2.0",
      "_model_name": "LayoutModel",
      "_view_count": null,
      "_view_module": "@jupyter-widgets/base",
      "_view_module_version": "1.2.0",
      "_view_name": "LayoutView",
      "align_content": null,
      "align_items": null,
      "align_self": null,
      "border": null,
      "bottom": null,
      "display": null,
      "flex": null,
      "flex_flow": null,
      "grid_area": null,
      "grid_auto_columns": null,
      "grid_auto_flow": null,
      "grid_auto_rows": null,
      "grid_column": null,
      "grid_gap": null,
      "grid_row": null,
      "grid_template_areas": null,
      "grid_template_columns": null,
      "grid_template_rows": null,
      "height": null,
      "justify_content": null,
      "justify_items": null,
      "left": null,
      "margin": null,
      "max_height": null,
      "max_width": null,
      "min_height": null,
      "min_width": null,
      "object_fit": null,
      "object_position": null,
      "order": null,
      "overflow": null,
      "overflow_x": null,
      "overflow_y": null,
      "padding": null,
      "right": null,
      "top": null,
      "visibility": null,
      "width": null
     }
    },
    "40b199b70c12485cb789acf694ddec59": {
     "model_module": "@jupyter-widgets/base",
     "model_module_version": "1.2.0",
     "model_name": "LayoutModel",
     "state": {
      "_model_module": "@jupyter-widgets/base",
      "_model_module_version": "1.2.0",
      "_model_name": "LayoutModel",
      "_view_count": null,
      "_view_module": "@jupyter-widgets/base",
      "_view_module_version": "1.2.0",
      "_view_name": "LayoutView",
      "align_content": null,
      "align_items": null,
      "align_self": null,
      "border": null,
      "bottom": null,
      "display": null,
      "flex": null,
      "flex_flow": null,
      "grid_area": null,
      "grid_auto_columns": null,
      "grid_auto_flow": null,
      "grid_auto_rows": null,
      "grid_column": null,
      "grid_gap": null,
      "grid_row": null,
      "grid_template_areas": null,
      "grid_template_columns": null,
      "grid_template_rows": null,
      "height": null,
      "justify_content": null,
      "justify_items": null,
      "left": null,
      "margin": null,
      "max_height": null,
      "max_width": null,
      "min_height": null,
      "min_width": null,
      "object_fit": null,
      "object_position": null,
      "order": null,
      "overflow": null,
      "overflow_x": null,
      "overflow_y": null,
      "padding": null,
      "right": null,
      "top": null,
      "visibility": null,
      "width": null
     }
    },
    "465954139b8049b9812e18bae7ae31fe": {
     "model_module": "@jupyter-widgets/controls",
     "model_module_version": "1.5.0",
     "model_name": "HTMLModel",
     "state": {
      "_dom_classes": [],
      "_model_module": "@jupyter-widgets/controls",
      "_model_module_version": "1.5.0",
      "_model_name": "HTMLModel",
      "_view_count": null,
      "_view_module": "@jupyter-widgets/controls",
      "_view_module_version": "1.5.0",
      "_view_name": "HTMLView",
      "description": "",
      "description_tooltip": null,
      "layout": "IPY_MODEL_7ff6f14c13fa4ace8ec63c3c4e9ea9d3",
      "placeholder": "​",
      "style": "IPY_MODEL_a464dc52b9934362bc8c234d59008474",
      "value": " 570/570 [00:00&lt;00:00, 18.3kB/s]"
     }
    },
    "46c8c44d4e424984bfc0ea70c4cab921": {
     "model_module": "@jupyter-widgets/controls",
     "model_module_version": "1.5.0",
     "model_name": "DescriptionStyleModel",
     "state": {
      "_model_module": "@jupyter-widgets/controls",
      "_model_module_version": "1.5.0",
      "_model_name": "DescriptionStyleModel",
      "_view_count": null,
      "_view_module": "@jupyter-widgets/base",
      "_view_module_version": "1.2.0",
      "_view_name": "StyleView",
      "description_width": ""
     }
    },
    "4b739c178e84435f9c998f06d909e1cd": {
     "model_module": "@jupyter-widgets/controls",
     "model_module_version": "1.5.0",
     "model_name": "DescriptionStyleModel",
     "state": {
      "_model_module": "@jupyter-widgets/controls",
      "_model_module_version": "1.5.0",
      "_model_name": "DescriptionStyleModel",
      "_view_count": null,
      "_view_module": "@jupyter-widgets/base",
      "_view_module_version": "1.2.0",
      "_view_name": "StyleView",
      "description_width": ""
     }
    },
    "571f8865cf9744168bc9492f51e27742": {
     "model_module": "@jupyter-widgets/controls",
     "model_module_version": "1.5.0",
     "model_name": "FloatProgressModel",
     "state": {
      "_dom_classes": [],
      "_model_module": "@jupyter-widgets/controls",
      "_model_module_version": "1.5.0",
      "_model_name": "FloatProgressModel",
      "_view_count": null,
      "_view_module": "@jupyter-widgets/controls",
      "_view_module_version": "1.5.0",
      "_view_name": "ProgressView",
      "bar_style": "success",
      "description": "",
      "description_tooltip": null,
      "layout": "IPY_MODEL_315ba37cbbc1418fafa45360f4b03ec7",
      "max": 466062,
      "min": 0,
      "orientation": "horizontal",
      "style": "IPY_MODEL_e1e113456b4f4fa497821f980856101f",
      "value": 466062
     }
    },
    "5f523cc929a0485ab808785905b3bd90": {
     "model_module": "@jupyter-widgets/controls",
     "model_module_version": "1.5.0",
     "model_name": "HTMLModel",
     "state": {
      "_dom_classes": [],
      "_model_module": "@jupyter-widgets/controls",
      "_model_module_version": "1.5.0",
      "_model_name": "HTMLModel",
      "_view_count": null,
      "_view_module": "@jupyter-widgets/controls",
      "_view_module_version": "1.5.0",
      "_view_name": "HTMLView",
      "description": "",
      "description_tooltip": null,
      "layout": "IPY_MODEL_f38fb4b5ad7649468191594c8de777ce",
      "placeholder": "​",
      "style": "IPY_MODEL_01a798a293f14f2e82cb2eab84cf658e",
      "value": " 466k/466k [00:00&lt;00:00, 2.05MB/s]"
     }
    },
    "6437d92ac61645c489ffb9a668ec4852": {
     "model_module": "@jupyter-widgets/controls",
     "model_module_version": "1.5.0",
     "model_name": "HBoxModel",
     "state": {
      "_dom_classes": [],
      "_model_module": "@jupyter-widgets/controls",
      "_model_module_version": "1.5.0",
      "_model_name": "HBoxModel",
      "_view_count": null,
      "_view_module": "@jupyter-widgets/controls",
      "_view_module_version": "1.5.0",
      "_view_name": "HBoxView",
      "box_style": "",
      "children": [
       "IPY_MODEL_1c1b37bd02484bdcb6cc8e7180ed6cd5",
       "IPY_MODEL_32574cca06724303805b32030e3caac1",
       "IPY_MODEL_8dadb688f36b43199e4b6048d45dd57a"
      ],
      "layout": "IPY_MODEL_3213382ec7b1472f9cbeba636c962464"
     }
    },
    "649cb6f6e15e43ca9c8a6fdc9c411b5e": {
     "model_module": "@jupyter-widgets/controls",
     "model_module_version": "1.5.0",
     "model_name": "ProgressStyleModel",
     "state": {
      "_model_module": "@jupyter-widgets/controls",
      "_model_module_version": "1.5.0",
      "_model_name": "ProgressStyleModel",
      "_view_count": null,
      "_view_module": "@jupyter-widgets/base",
      "_view_module_version": "1.2.0",
      "_view_name": "StyleView",
      "bar_color": null,
      "description_width": ""
     }
    },
    "7056eb5836854acaba7445df925d64ae": {
     "model_module": "@jupyter-widgets/controls",
     "model_module_version": "1.5.0",
     "model_name": "HTMLModel",
     "state": {
      "_dom_classes": [],
      "_model_module": "@jupyter-widgets/controls",
      "_model_module_version": "1.5.0",
      "_model_name": "HTMLModel",
      "_view_count": null,
      "_view_module": "@jupyter-widgets/controls",
      "_view_module_version": "1.5.0",
      "_view_name": "HTMLView",
      "description": "",
      "description_tooltip": null,
      "layout": "IPY_MODEL_28e470362ca94567b5a4203636958216",
      "placeholder": "​",
      "style": "IPY_MODEL_09f0140349df427ab96a19efcb2356a8",
      "value": "model.safetensors: 100%"
     }
    },
    "736c8db58e1148ba84bc4222b0720a53": {
     "model_module": "@jupyter-widgets/controls",
     "model_module_version": "1.5.0",
     "model_name": "HTMLModel",
     "state": {
      "_dom_classes": [],
      "_model_module": "@jupyter-widgets/controls",
      "_model_module_version": "1.5.0",
      "_model_name": "HTMLModel",
      "_view_count": null,
      "_view_module": "@jupyter-widgets/controls",
      "_view_module_version": "1.5.0",
      "_view_name": "HTMLView",
      "description": "",
      "description_tooltip": null,
      "layout": "IPY_MODEL_970309152fd240df8224173c993763eb",
      "placeholder": "​",
      "style": "IPY_MODEL_4b739c178e84435f9c998f06d909e1cd",
      "value": "vocab.txt: 100%"
     }
    },
    "7dca88dfbba849a3a9abbdb9f998743e": {
     "model_module": "@jupyter-widgets/base",
     "model_module_version": "1.2.0",
     "model_name": "LayoutModel",
     "state": {
      "_model_module": "@jupyter-widgets/base",
      "_model_module_version": "1.2.0",
      "_model_name": "LayoutModel",
      "_view_count": null,
      "_view_module": "@jupyter-widgets/base",
      "_view_module_version": "1.2.0",
      "_view_name": "LayoutView",
      "align_content": null,
      "align_items": null,
      "align_self": null,
      "border": null,
      "bottom": null,
      "display": null,
      "flex": null,
      "flex_flow": null,
      "grid_area": null,
      "grid_auto_columns": null,
      "grid_auto_flow": null,
      "grid_auto_rows": null,
      "grid_column": null,
      "grid_gap": null,
      "grid_row": null,
      "grid_template_areas": null,
      "grid_template_columns": null,
      "grid_template_rows": null,
      "height": null,
      "justify_content": null,
      "justify_items": null,
      "left": null,
      "margin": null,
      "max_height": null,
      "max_width": null,
      "min_height": null,
      "min_width": null,
      "object_fit": null,
      "object_position": null,
      "order": null,
      "overflow": null,
      "overflow_x": null,
      "overflow_y": null,
      "padding": null,
      "right": null,
      "top": null,
      "visibility": null,
      "width": null
     }
    },
    "7dec830809714fbf8447219d0966575b": {
     "model_module": "@jupyter-widgets/controls",
     "model_module_version": "1.5.0",
     "model_name": "HBoxModel",
     "state": {
      "_dom_classes": [],
      "_model_module": "@jupyter-widgets/controls",
      "_model_module_version": "1.5.0",
      "_model_name": "HBoxModel",
      "_view_count": null,
      "_view_module": "@jupyter-widgets/controls",
      "_view_module_version": "1.5.0",
      "_view_name": "HBoxView",
      "box_style": "",
      "children": [
       "IPY_MODEL_736c8db58e1148ba84bc4222b0720a53",
       "IPY_MODEL_d9ab6b6a52a24dac92303937742cb7fe",
       "IPY_MODEL_cc6ce683823e4daa93f1b6a568056a9c"
      ],
      "layout": "IPY_MODEL_7dca88dfbba849a3a9abbdb9f998743e"
     }
    },
    "7ff6f14c13fa4ace8ec63c3c4e9ea9d3": {
     "model_module": "@jupyter-widgets/base",
     "model_module_version": "1.2.0",
     "model_name": "LayoutModel",
     "state": {
      "_model_module": "@jupyter-widgets/base",
      "_model_module_version": "1.2.0",
      "_model_name": "LayoutModel",
      "_view_count": null,
      "_view_module": "@jupyter-widgets/base",
      "_view_module_version": "1.2.0",
      "_view_name": "LayoutView",
      "align_content": null,
      "align_items": null,
      "align_self": null,
      "border": null,
      "bottom": null,
      "display": null,
      "flex": null,
      "flex_flow": null,
      "grid_area": null,
      "grid_auto_columns": null,
      "grid_auto_flow": null,
      "grid_auto_rows": null,
      "grid_column": null,
      "grid_gap": null,
      "grid_row": null,
      "grid_template_areas": null,
      "grid_template_columns": null,
      "grid_template_rows": null,
      "height": null,
      "justify_content": null,
      "justify_items": null,
      "left": null,
      "margin": null,
      "max_height": null,
      "max_width": null,
      "min_height": null,
      "min_width": null,
      "object_fit": null,
      "object_position": null,
      "order": null,
      "overflow": null,
      "overflow_x": null,
      "overflow_y": null,
      "padding": null,
      "right": null,
      "top": null,
      "visibility": null,
      "width": null
     }
    },
    "8b6e347652e04a5aa348310ae8153ceb": {
     "model_module": "@jupyter-widgets/controls",
     "model_module_version": "1.5.0",
     "model_name": "HBoxModel",
     "state": {
      "_dom_classes": [],
      "_model_module": "@jupyter-widgets/controls",
      "_model_module_version": "1.5.0",
      "_model_name": "HBoxModel",
      "_view_count": null,
      "_view_module": "@jupyter-widgets/controls",
      "_view_module_version": "1.5.0",
      "_view_name": "HBoxView",
      "box_style": "",
      "children": [
       "IPY_MODEL_dbc82c493e734443aae90a5f95b87937",
       "IPY_MODEL_571f8865cf9744168bc9492f51e27742",
       "IPY_MODEL_5f523cc929a0485ab808785905b3bd90"
      ],
      "layout": "IPY_MODEL_189d4997872447508474af2e5213f61a"
     }
    },
    "8c370fd9a385446fa5b9a04dd45c0708": {
     "model_module": "@jupyter-widgets/base",
     "model_module_version": "1.2.0",
     "model_name": "LayoutModel",
     "state": {
      "_model_module": "@jupyter-widgets/base",
      "_model_module_version": "1.2.0",
      "_model_name": "LayoutModel",
      "_view_count": null,
      "_view_module": "@jupyter-widgets/base",
      "_view_module_version": "1.2.0",
      "_view_name": "LayoutView",
      "align_content": null,
      "align_items": null,
      "align_self": null,
      "border": null,
      "bottom": null,
      "display": null,
      "flex": null,
      "flex_flow": null,
      "grid_area": null,
      "grid_auto_columns": null,
      "grid_auto_flow": null,
      "grid_auto_rows": null,
      "grid_column": null,
      "grid_gap": null,
      "grid_row": null,
      "grid_template_areas": null,
      "grid_template_columns": null,
      "grid_template_rows": null,
      "height": null,
      "justify_content": null,
      "justify_items": null,
      "left": null,
      "margin": null,
      "max_height": null,
      "max_width": null,
      "min_height": null,
      "min_width": null,
      "object_fit": null,
      "object_position": null,
      "order": null,
      "overflow": null,
      "overflow_x": null,
      "overflow_y": null,
      "padding": null,
      "right": null,
      "top": null,
      "visibility": null,
      "width": null
     }
    },
    "8ceb8807a00b4b8a9ee76dd09dea5963": {
     "model_module": "@jupyter-widgets/base",
     "model_module_version": "1.2.0",
     "model_name": "LayoutModel",
     "state": {
      "_model_module": "@jupyter-widgets/base",
      "_model_module_version": "1.2.0",
      "_model_name": "LayoutModel",
      "_view_count": null,
      "_view_module": "@jupyter-widgets/base",
      "_view_module_version": "1.2.0",
      "_view_name": "LayoutView",
      "align_content": null,
      "align_items": null,
      "align_self": null,
      "border": null,
      "bottom": null,
      "display": null,
      "flex": null,
      "flex_flow": null,
      "grid_area": null,
      "grid_auto_columns": null,
      "grid_auto_flow": null,
      "grid_auto_rows": null,
      "grid_column": null,
      "grid_gap": null,
      "grid_row": null,
      "grid_template_areas": null,
      "grid_template_columns": null,
      "grid_template_rows": null,
      "height": null,
      "justify_content": null,
      "justify_items": null,
      "left": null,
      "margin": null,
      "max_height": null,
      "max_width": null,
      "min_height": null,
      "min_width": null,
      "object_fit": null,
      "object_position": null,
      "order": null,
      "overflow": null,
      "overflow_x": null,
      "overflow_y": null,
      "padding": null,
      "right": null,
      "top": null,
      "visibility": null,
      "width": null
     }
    },
    "8dadb688f36b43199e4b6048d45dd57a": {
     "model_module": "@jupyter-widgets/controls",
     "model_module_version": "1.5.0",
     "model_name": "HTMLModel",
     "state": {
      "_dom_classes": [],
      "_model_module": "@jupyter-widgets/controls",
      "_model_module_version": "1.5.0",
      "_model_name": "HTMLModel",
      "_view_count": null,
      "_view_module": "@jupyter-widgets/controls",
      "_view_module_version": "1.5.0",
      "_view_name": "HTMLView",
      "description": "",
      "description_tooltip": null,
      "layout": "IPY_MODEL_40b199b70c12485cb789acf694ddec59",
      "placeholder": "​",
      "style": "IPY_MODEL_08e272b5b2c24bbf833abe718dbbf00b",
      "value": " 48.0/48.0 [00:00&lt;00:00, 3.09kB/s]"
     }
    },
    "902913716dd0469d9751fe8c7ae1e907": {
     "model_module": "@jupyter-widgets/base",
     "model_module_version": "1.2.0",
     "model_name": "LayoutModel",
     "state": {
      "_model_module": "@jupyter-widgets/base",
      "_model_module_version": "1.2.0",
      "_model_name": "LayoutModel",
      "_view_count": null,
      "_view_module": "@jupyter-widgets/base",
      "_view_module_version": "1.2.0",
      "_view_name": "LayoutView",
      "align_content": null,
      "align_items": null,
      "align_self": null,
      "border": null,
      "bottom": null,
      "display": null,
      "flex": null,
      "flex_flow": null,
      "grid_area": null,
      "grid_auto_columns": null,
      "grid_auto_flow": null,
      "grid_auto_rows": null,
      "grid_column": null,
      "grid_gap": null,
      "grid_row": null,
      "grid_template_areas": null,
      "grid_template_columns": null,
      "grid_template_rows": null,
      "height": null,
      "justify_content": null,
      "justify_items": null,
      "left": null,
      "margin": null,
      "max_height": null,
      "max_width": null,
      "min_height": null,
      "min_width": null,
      "object_fit": null,
      "object_position": null,
      "order": null,
      "overflow": null,
      "overflow_x": null,
      "overflow_y": null,
      "padding": null,
      "right": null,
      "top": null,
      "visibility": null,
      "width": null
     }
    },
    "970309152fd240df8224173c993763eb": {
     "model_module": "@jupyter-widgets/base",
     "model_module_version": "1.2.0",
     "model_name": "LayoutModel",
     "state": {
      "_model_module": "@jupyter-widgets/base",
      "_model_module_version": "1.2.0",
      "_model_name": "LayoutModel",
      "_view_count": null,
      "_view_module": "@jupyter-widgets/base",
      "_view_module_version": "1.2.0",
      "_view_name": "LayoutView",
      "align_content": null,
      "align_items": null,
      "align_self": null,
      "border": null,
      "bottom": null,
      "display": null,
      "flex": null,
      "flex_flow": null,
      "grid_area": null,
      "grid_auto_columns": null,
      "grid_auto_flow": null,
      "grid_auto_rows": null,
      "grid_column": null,
      "grid_gap": null,
      "grid_row": null,
      "grid_template_areas": null,
      "grid_template_columns": null,
      "grid_template_rows": null,
      "height": null,
      "justify_content": null,
      "justify_items": null,
      "left": null,
      "margin": null,
      "max_height": null,
      "max_width": null,
      "min_height": null,
      "min_width": null,
      "object_fit": null,
      "object_position": null,
      "order": null,
      "overflow": null,
      "overflow_x": null,
      "overflow_y": null,
      "padding": null,
      "right": null,
      "top": null,
      "visibility": null,
      "width": null
     }
    },
    "9e8413b739f741b4813651e3b987fb97": {
     "model_module": "@jupyter-widgets/base",
     "model_module_version": "1.2.0",
     "model_name": "LayoutModel",
     "state": {
      "_model_module": "@jupyter-widgets/base",
      "_model_module_version": "1.2.0",
      "_model_name": "LayoutModel",
      "_view_count": null,
      "_view_module": "@jupyter-widgets/base",
      "_view_module_version": "1.2.0",
      "_view_name": "LayoutView",
      "align_content": null,
      "align_items": null,
      "align_self": null,
      "border": null,
      "bottom": null,
      "display": null,
      "flex": null,
      "flex_flow": null,
      "grid_area": null,
      "grid_auto_columns": null,
      "grid_auto_flow": null,
      "grid_auto_rows": null,
      "grid_column": null,
      "grid_gap": null,
      "grid_row": null,
      "grid_template_areas": null,
      "grid_template_columns": null,
      "grid_template_rows": null,
      "height": null,
      "justify_content": null,
      "justify_items": null,
      "left": null,
      "margin": null,
      "max_height": null,
      "max_width": null,
      "min_height": null,
      "min_width": null,
      "object_fit": null,
      "object_position": null,
      "order": null,
      "overflow": null,
      "overflow_x": null,
      "overflow_y": null,
      "padding": null,
      "right": null,
      "top": null,
      "visibility": null,
      "width": null
     }
    },
    "a2bc334fc44d4bb9b02da68162566678": {
     "model_module": "@jupyter-widgets/controls",
     "model_module_version": "1.5.0",
     "model_name": "DescriptionStyleModel",
     "state": {
      "_model_module": "@jupyter-widgets/controls",
      "_model_module_version": "1.5.0",
      "_model_name": "DescriptionStyleModel",
      "_view_count": null,
      "_view_module": "@jupyter-widgets/base",
      "_view_module_version": "1.2.0",
      "_view_name": "StyleView",
      "description_width": ""
     }
    },
    "a464dc52b9934362bc8c234d59008474": {
     "model_module": "@jupyter-widgets/controls",
     "model_module_version": "1.5.0",
     "model_name": "DescriptionStyleModel",
     "state": {
      "_model_module": "@jupyter-widgets/controls",
      "_model_module_version": "1.5.0",
      "_model_name": "DescriptionStyleModel",
      "_view_count": null,
      "_view_module": "@jupyter-widgets/base",
      "_view_module_version": "1.2.0",
      "_view_name": "StyleView",
      "description_width": ""
     }
    },
    "c11842e15f0443eaa88e15775664db06": {
     "model_module": "@jupyter-widgets/base",
     "model_module_version": "1.2.0",
     "model_name": "LayoutModel",
     "state": {
      "_model_module": "@jupyter-widgets/base",
      "_model_module_version": "1.2.0",
      "_model_name": "LayoutModel",
      "_view_count": null,
      "_view_module": "@jupyter-widgets/base",
      "_view_module_version": "1.2.0",
      "_view_name": "LayoutView",
      "align_content": null,
      "align_items": null,
      "align_self": null,
      "border": null,
      "bottom": null,
      "display": null,
      "flex": null,
      "flex_flow": null,
      "grid_area": null,
      "grid_auto_columns": null,
      "grid_auto_flow": null,
      "grid_auto_rows": null,
      "grid_column": null,
      "grid_gap": null,
      "grid_row": null,
      "grid_template_areas": null,
      "grid_template_columns": null,
      "grid_template_rows": null,
      "height": null,
      "justify_content": null,
      "justify_items": null,
      "left": null,
      "margin": null,
      "max_height": null,
      "max_width": null,
      "min_height": null,
      "min_width": null,
      "object_fit": null,
      "object_position": null,
      "order": null,
      "overflow": null,
      "overflow_x": null,
      "overflow_y": null,
      "padding": null,
      "right": null,
      "top": null,
      "visibility": null,
      "width": null
     }
    },
    "cb7e76935e85456fabfb83004f161c47": {
     "model_module": "@jupyter-widgets/controls",
     "model_module_version": "1.5.0",
     "model_name": "FloatProgressModel",
     "state": {
      "_dom_classes": [],
      "_model_module": "@jupyter-widgets/controls",
      "_model_module_version": "1.5.0",
      "_model_name": "FloatProgressModel",
      "_view_count": null,
      "_view_module": "@jupyter-widgets/controls",
      "_view_module_version": "1.5.0",
      "_view_name": "ProgressView",
      "bar_style": "success",
      "description": "",
      "description_tooltip": null,
      "layout": "IPY_MODEL_d21b640c30f44d2d987f127f88dd5196",
      "max": 570,
      "min": 0,
      "orientation": "horizontal",
      "style": "IPY_MODEL_e9a29b9799214263bf2ad3fcebe05d35",
      "value": 570
     }
    },
    "cc6ce683823e4daa93f1b6a568056a9c": {
     "model_module": "@jupyter-widgets/controls",
     "model_module_version": "1.5.0",
     "model_name": "HTMLModel",
     "state": {
      "_dom_classes": [],
      "_model_module": "@jupyter-widgets/controls",
      "_model_module_version": "1.5.0",
      "_model_name": "HTMLModel",
      "_view_count": null,
      "_view_module": "@jupyter-widgets/controls",
      "_view_module_version": "1.5.0",
      "_view_name": "HTMLView",
      "description": "",
      "description_tooltip": null,
      "layout": "IPY_MODEL_9e8413b739f741b4813651e3b987fb97",
      "placeholder": "​",
      "style": "IPY_MODEL_1ca924fbb3234ef0b029a9c12887678f",
      "value": " 232k/232k [00:00&lt;00:00, 2.82MB/s]"
     }
    },
    "cd0a5a4213114fcea38426929d7e279d": {
     "model_module": "@jupyter-widgets/controls",
     "model_module_version": "1.5.0",
     "model_name": "FloatProgressModel",
     "state": {
      "_dom_classes": [],
      "_model_module": "@jupyter-widgets/controls",
      "_model_module_version": "1.5.0",
      "_model_name": "FloatProgressModel",
      "_view_count": null,
      "_view_module": "@jupyter-widgets/controls",
      "_view_module_version": "1.5.0",
      "_view_name": "ProgressView",
      "bar_style": "success",
      "description": "",
      "description_tooltip": null,
      "layout": "IPY_MODEL_8c370fd9a385446fa5b9a04dd45c0708",
      "max": 440449768,
      "min": 0,
      "orientation": "horizontal",
      "style": "IPY_MODEL_649cb6f6e15e43ca9c8a6fdc9c411b5e",
      "value": 440449768
     }
    },
    "d21b640c30f44d2d987f127f88dd5196": {
     "model_module": "@jupyter-widgets/base",
     "model_module_version": "1.2.0",
     "model_name": "LayoutModel",
     "state": {
      "_model_module": "@jupyter-widgets/base",
      "_model_module_version": "1.2.0",
      "_model_name": "LayoutModel",
      "_view_count": null,
      "_view_module": "@jupyter-widgets/base",
      "_view_module_version": "1.2.0",
      "_view_name": "LayoutView",
      "align_content": null,
      "align_items": null,
      "align_self": null,
      "border": null,
      "bottom": null,
      "display": null,
      "flex": null,
      "flex_flow": null,
      "grid_area": null,
      "grid_auto_columns": null,
      "grid_auto_flow": null,
      "grid_auto_rows": null,
      "grid_column": null,
      "grid_gap": null,
      "grid_row": null,
      "grid_template_areas": null,
      "grid_template_columns": null,
      "grid_template_rows": null,
      "height": null,
      "justify_content": null,
      "justify_items": null,
      "left": null,
      "margin": null,
      "max_height": null,
      "max_width": null,
      "min_height": null,
      "min_width": null,
      "object_fit": null,
      "object_position": null,
      "order": null,
      "overflow": null,
      "overflow_x": null,
      "overflow_y": null,
      "padding": null,
      "right": null,
      "top": null,
      "visibility": null,
      "width": null
     }
    },
    "d9ab6b6a52a24dac92303937742cb7fe": {
     "model_module": "@jupyter-widgets/controls",
     "model_module_version": "1.5.0",
     "model_name": "FloatProgressModel",
     "state": {
      "_dom_classes": [],
      "_model_module": "@jupyter-widgets/controls",
      "_model_module_version": "1.5.0",
      "_model_name": "FloatProgressModel",
      "_view_count": null,
      "_view_module": "@jupyter-widgets/controls",
      "_view_module_version": "1.5.0",
      "_view_name": "ProgressView",
      "bar_style": "success",
      "description": "",
      "description_tooltip": null,
      "layout": "IPY_MODEL_c11842e15f0443eaa88e15775664db06",
      "max": 231508,
      "min": 0,
      "orientation": "horizontal",
      "style": "IPY_MODEL_29aaa6ed92d44817b06e1db11dfc9afb",
      "value": 231508
     }
    },
    "d9f7a98f2cc24156a9a128c2c5bc9de1": {
     "model_module": "@jupyter-widgets/controls",
     "model_module_version": "1.5.0",
     "model_name": "DescriptionStyleModel",
     "state": {
      "_model_module": "@jupyter-widgets/controls",
      "_model_module_version": "1.5.0",
      "_model_name": "DescriptionStyleModel",
      "_view_count": null,
      "_view_module": "@jupyter-widgets/base",
      "_view_module_version": "1.2.0",
      "_view_name": "StyleView",
      "description_width": ""
     }
    },
    "dbc82c493e734443aae90a5f95b87937": {
     "model_module": "@jupyter-widgets/controls",
     "model_module_version": "1.5.0",
     "model_name": "HTMLModel",
     "state": {
      "_dom_classes": [],
      "_model_module": "@jupyter-widgets/controls",
      "_model_module_version": "1.5.0",
      "_model_name": "HTMLModel",
      "_view_count": null,
      "_view_module": "@jupyter-widgets/controls",
      "_view_module_version": "1.5.0",
      "_view_name": "HTMLView",
      "description": "",
      "description_tooltip": null,
      "layout": "IPY_MODEL_8ceb8807a00b4b8a9ee76dd09dea5963",
      "placeholder": "​",
      "style": "IPY_MODEL_46c8c44d4e424984bfc0ea70c4cab921",
      "value": "tokenizer.json: 100%"
     }
    },
    "dd0e568c10fd4f7a94f18271bbe52ecb": {
     "model_module": "@jupyter-widgets/controls",
     "model_module_version": "1.5.0",
     "model_name": "HBoxModel",
     "state": {
      "_dom_classes": [],
      "_model_module": "@jupyter-widgets/controls",
      "_model_module_version": "1.5.0",
      "_model_name": "HBoxModel",
      "_view_count": null,
      "_view_module": "@jupyter-widgets/controls",
      "_view_module_version": "1.5.0",
      "_view_name": "HBoxView",
      "box_style": "",
      "children": [
       "IPY_MODEL_7056eb5836854acaba7445df925d64ae",
       "IPY_MODEL_cd0a5a4213114fcea38426929d7e279d",
       "IPY_MODEL_e1b9106a6a724ddf8b6aebe1fcfc287a"
      ],
      "layout": "IPY_MODEL_902913716dd0469d9751fe8c7ae1e907"
     }
    },
    "e1b9106a6a724ddf8b6aebe1fcfc287a": {
     "model_module": "@jupyter-widgets/controls",
     "model_module_version": "1.5.0",
     "model_name": "HTMLModel",
     "state": {
      "_dom_classes": [],
      "_model_module": "@jupyter-widgets/controls",
      "_model_module_version": "1.5.0",
      "_model_name": "HTMLModel",
      "_view_count": null,
      "_view_module": "@jupyter-widgets/controls",
      "_view_module_version": "1.5.0",
      "_view_name": "HTMLView",
      "description": "",
      "description_tooltip": null,
      "layout": "IPY_MODEL_ff9f5fcb8a4e44bc9c32024344dd52dd",
      "placeholder": "​",
      "style": "IPY_MODEL_d9f7a98f2cc24156a9a128c2c5bc9de1",
      "value": " 440M/440M [00:01&lt;00:00, 306MB/s]"
     }
    },
    "e1e113456b4f4fa497821f980856101f": {
     "model_module": "@jupyter-widgets/controls",
     "model_module_version": "1.5.0",
     "model_name": "ProgressStyleModel",
     "state": {
      "_model_module": "@jupyter-widgets/controls",
      "_model_module_version": "1.5.0",
      "_model_name": "ProgressStyleModel",
      "_view_count": null,
      "_view_module": "@jupyter-widgets/base",
      "_view_module_version": "1.2.0",
      "_view_name": "StyleView",
      "bar_color": null,
      "description_width": ""
     }
    },
    "e9a29b9799214263bf2ad3fcebe05d35": {
     "model_module": "@jupyter-widgets/controls",
     "model_module_version": "1.5.0",
     "model_name": "ProgressStyleModel",
     "state": {
      "_model_module": "@jupyter-widgets/controls",
      "_model_module_version": "1.5.0",
      "_model_name": "ProgressStyleModel",
      "_view_count": null,
      "_view_module": "@jupyter-widgets/base",
      "_view_module_version": "1.2.0",
      "_view_name": "StyleView",
      "bar_color": null,
      "description_width": ""
     }
    },
    "f38fb4b5ad7649468191594c8de777ce": {
     "model_module": "@jupyter-widgets/base",
     "model_module_version": "1.2.0",
     "model_name": "LayoutModel",
     "state": {
      "_model_module": "@jupyter-widgets/base",
      "_model_module_version": "1.2.0",
      "_model_name": "LayoutModel",
      "_view_count": null,
      "_view_module": "@jupyter-widgets/base",
      "_view_module_version": "1.2.0",
      "_view_name": "LayoutView",
      "align_content": null,
      "align_items": null,
      "align_self": null,
      "border": null,
      "bottom": null,
      "display": null,
      "flex": null,
      "flex_flow": null,
      "grid_area": null,
      "grid_auto_columns": null,
      "grid_auto_flow": null,
      "grid_auto_rows": null,
      "grid_column": null,
      "grid_gap": null,
      "grid_row": null,
      "grid_template_areas": null,
      "grid_template_columns": null,
      "grid_template_rows": null,
      "height": null,
      "justify_content": null,
      "justify_items": null,
      "left": null,
      "margin": null,
      "max_height": null,
      "max_width": null,
      "min_height": null,
      "min_width": null,
      "object_fit": null,
      "object_position": null,
      "order": null,
      "overflow": null,
      "overflow_x": null,
      "overflow_y": null,
      "padding": null,
      "right": null,
      "top": null,
      "visibility": null,
      "width": null
     }
    },
    "f3f7968688ee4e458995a38ea0cfda58": {
     "model_module": "@jupyter-widgets/base",
     "model_module_version": "1.2.0",
     "model_name": "LayoutModel",
     "state": {
      "_model_module": "@jupyter-widgets/base",
      "_model_module_version": "1.2.0",
      "_model_name": "LayoutModel",
      "_view_count": null,
      "_view_module": "@jupyter-widgets/base",
      "_view_module_version": "1.2.0",
      "_view_name": "LayoutView",
      "align_content": null,
      "align_items": null,
      "align_self": null,
      "border": null,
      "bottom": null,
      "display": null,
      "flex": null,
      "flex_flow": null,
      "grid_area": null,
      "grid_auto_columns": null,
      "grid_auto_flow": null,
      "grid_auto_rows": null,
      "grid_column": null,
      "grid_gap": null,
      "grid_row": null,
      "grid_template_areas": null,
      "grid_template_columns": null,
      "grid_template_rows": null,
      "height": null,
      "justify_content": null,
      "justify_items": null,
      "left": null,
      "margin": null,
      "max_height": null,
      "max_width": null,
      "min_height": null,
      "min_width": null,
      "object_fit": null,
      "object_position": null,
      "order": null,
      "overflow": null,
      "overflow_x": null,
      "overflow_y": null,
      "padding": null,
      "right": null,
      "top": null,
      "visibility": null,
      "width": null
     }
    },
    "ff9f5fcb8a4e44bc9c32024344dd52dd": {
     "model_module": "@jupyter-widgets/base",
     "model_module_version": "1.2.0",
     "model_name": "LayoutModel",
     "state": {
      "_model_module": "@jupyter-widgets/base",
      "_model_module_version": "1.2.0",
      "_model_name": "LayoutModel",
      "_view_count": null,
      "_view_module": "@jupyter-widgets/base",
      "_view_module_version": "1.2.0",
      "_view_name": "LayoutView",
      "align_content": null,
      "align_items": null,
      "align_self": null,
      "border": null,
      "bottom": null,
      "display": null,
      "flex": null,
      "flex_flow": null,
      "grid_area": null,
      "grid_auto_columns": null,
      "grid_auto_flow": null,
      "grid_auto_rows": null,
      "grid_column": null,
      "grid_gap": null,
      "grid_row": null,
      "grid_template_areas": null,
      "grid_template_columns": null,
      "grid_template_rows": null,
      "height": null,
      "justify_content": null,
      "justify_items": null,
      "left": null,
      "margin": null,
      "max_height": null,
      "max_width": null,
      "min_height": null,
      "min_width": null,
      "object_fit": null,
      "object_position": null,
      "order": null,
      "overflow": null,
      "overflow_x": null,
      "overflow_y": null,
      "padding": null,
      "right": null,
      "top": null,
      "visibility": null,
      "width": null
     }
    }
   }
  }
 },
 "nbformat": 4,
 "nbformat_minor": 5
}
